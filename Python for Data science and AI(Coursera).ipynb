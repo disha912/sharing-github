{
    "cells": [
        {
            "metadata": {},
            "cell_type": "code",
            "source": "# Check the Python Version\n\nimport sys\nprint(sys.version)",
            "execution_count": 1,
            "outputs": [
                {
                    "output_type": "stream",
                    "text": "3.7.9 (default, Aug 31 2020, 12:42:55) \n[GCC 7.3.0]\n",
                    "name": "stdout"
                }
            ]
        },
        {
            "metadata": {},
            "cell_type": "code",
            "source": "#Consider the variable D use slicing to print out the first three elements:\nD = \"ABCDEFG\"\n\nprint(D[:3])\n\n#####################################\n\n#Use a stride value of 2 to print out every second character of the string E:\nE = 'clocrkr1e1c1t'\n\nprint(E[::2])\n\n######################################\n\n#Convert the variable F to uppercase:\nF = \"You are wrong\"\n\nprint(F.upper())\n\n#######################################3\n\n\n#Consider the variable G, and find the first index of the sub-string snow:\nG = \"Mary had a little lamb Little lamb, little lamb Mary had a little lamb \\\nIts fleece was white as snow And everywhere that Mary went Mary went, Mary went \\\nEverywhere that Mary went The lamb was sure to go\"\n\nprint(G.find('snow'))\n\n\n\n\n#In the variable G, replace the sub-string Mary with ''''\nprint(G. replace('Mary', ''))",
            "execution_count": 11,
            "outputs": [
                {
                    "output_type": "stream",
                    "text": "ABC\ncorrect\nYOU ARE WRONG\n95\n had a little lamb Little lamb, little lamb  had a little lamb Its fleece was white as snow And everywhere that  went  went,  went Everywhere that  went The lamb was sure to go\n",
                    "name": "stdout"
                }
            ]
        },
        {
            "metadata": {},
            "cell_type": "code",
            "source": "",
            "execution_count": null,
            "outputs": []
        }
    ],
    "metadata": {
        "kernelspec": {
            "name": "python3",
            "display_name": "Python 3.7",
            "language": "python"
        },
        "language_info": {
            "name": "python",
            "version": "3.7.9",
            "mimetype": "text/x-python",
            "codemirror_mode": {
                "name": "ipython",
                "version": 3
            },
            "pygments_lexer": "ipython3",
            "nbconvert_exporter": "python",
            "file_extension": ".py"
        }
    },
    "nbformat": 4,
    "nbformat_minor": 1
}