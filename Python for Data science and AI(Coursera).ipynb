{
    "cells": [
        {
            "metadata": {},
            "cell_type": "code",
            "source": "# Check the Python Version\n\nimport sys\nprint(sys.version)",
            "execution_count": 1,
            "outputs": [
                {
                    "output_type": "stream",
                    "text": "3.7.9 (default, Aug 31 2020, 12:42:55) \n[GCC 7.3.0]\n",
                    "name": "stdout"
                }
            ]
        },
        {
            "metadata": {},
            "cell_type": "code",
            "source": "#Consider the variable D use slicing to print out the first three elements:\nD = \"ABCDEFG\"\n\nprint(D[:3])\n\n#####################################\n\n#Use a stride value of 2 to print out every second character of the string E:\nE = 'clocrkr1e1c1t'\n\nprint(E[::2])\n\n######################################\n\n#Convert the variable F to uppercase:\nF = \"You are wrong\"\n\nprint(F.upper())\n\n#######################################3\n\n\n#Consider the variable G, and find the first index of the sub-string snow:\nG = \"Mary had a little lamb Little lamb, little lamb Mary had a little lamb \\\nIts fleece was white as snow And everywhere that Mary went Mary went, Mary went \\\nEverywhere that Mary went The lamb was sure to go\"\n\nprint(G.find('snow'))\n\n\n\n\n#In the variable G, replace the sub-string Mary with ''''\nprint(G. replace('Mary', ''))",
            "execution_count": 11,
            "outputs": [
                {
                    "output_type": "stream",
                    "text": "ABC\ncorrect\nYOU ARE WRONG\n95\n had a little lamb Little lamb, little lamb  had a little lamb Its fleece was white as snow And everywhere that  went  went,  went Everywhere that  went The lamb was sure to go\n",
                    "name": "stdout"
                }
            ]
        },
        {
            "metadata": {},
            "cell_type": "code",
            "source": "# Dictionaries\n\n\n\nsoundtrack_dic = {\"The Bodyguard\":\"1992\", \"Saturday Night Fever\":\"1977\"}\n\n#a) In the dictionary soundtrack_dict what are the keys and values?\nprint(soundtrack_dic.keys())\nprint(soundtrack_dic.values())\n\n##############################\n\n\n#The Albums Back in Black, The Bodyguard and Thriller have the following music recording sales in millions 50, 50 and 65 respectively:\n#a) Create a dictionary album_sales_dict where the keys are the album name and the sales in millions are the values\nalbum_sales_dict = {'Back in Black': 50 , 'The Bodyguard':50 ,'Thriller' : 65 }\nprint(album_sales_dict)\n\n#b) Use the dictionary to find the total sales of Thriller:\nprint(album_sales_dict['Thriller'])",
            "execution_count": 6,
            "outputs": [
                {
                    "output_type": "stream",
                    "text": "dict_keys(['The Bodyguard', 'Saturday Night Fever'])\ndict_values(['1992', '1977'])\n{'Back in Black': 50, 'The Bodyguard': 50, 'Thriller': 65}\n65\n",
                    "name": "stdout"
                }
            ]
        },
        {
            "metadata": {},
            "cell_type": "code",
            "source": "#Conditions in Python\n\nrating = 8.5\nif (rating > 8):\n    print(\"This album is Amazing!\")\nelse:\n    print(\"this album is ok\")\n    \n    \n###################################3\n\nyear = 1993\nif (year < 1980 or year == 1991 or year == 1993): \n    print(\"the album came out in \" + str(year))\n",
            "execution_count": 12,
            "outputs": [
                {
                    "output_type": "stream",
                    "text": "This album is Amazing!\nthe album came out in 1993\n",
                    "name": "stdout"
                }
            ]
        },
        {
            "metadata": {},
            "cell_type": "code",
            "source": "",
            "execution_count": null,
            "outputs": []
        }
    ],
    "metadata": {
        "kernelspec": {
            "name": "python3",
            "display_name": "Python 3.7",
            "language": "python"
        },
        "language_info": {
            "name": "python",
            "version": "3.7.9",
            "mimetype": "text/x-python",
            "codemirror_mode": {
                "name": "ipython",
                "version": 3
            },
            "pygments_lexer": "ipython3",
            "nbconvert_exporter": "python",
            "file_extension": ".py"
        }
    },
    "nbformat": 4,
    "nbformat_minor": 1
}