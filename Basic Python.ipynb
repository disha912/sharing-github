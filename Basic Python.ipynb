{
    "cells": [
        {
            "metadata": {},
            "cell_type": "code",
            "source": "4 + 5",
            "execution_count": 1,
            "outputs": [
                {
                    "output_type": "execute_result",
                    "execution_count": 1,
                    "data": {
                        "text/plain": "9"
                    },
                    "metadata": {}
                }
            ]
        },
        {
            "metadata": {},
            "cell_type": "code",
            "source": "print( 4 + 5 )",
            "execution_count": 2,
            "outputs": [
                {
                    "output_type": "stream",
                    "text": "9\n",
                    "name": "stdout"
                }
            ]
        },
        {
            "metadata": {},
            "cell_type": "code",
            "source": "# Experiment in the IPython Shell; type 5 / 8, for example. Add another line of code to the Python script on the top-right (not in the Shell): print(7 + 10).\n\n\n# Example, do not modify!\n5/8\n\n# Put code below here\nprint(7+10)",
            "execution_count": 3,
            "outputs": [
                {
                    "output_type": "stream",
                    "text": "17\n",
                    "name": "stdout"
                }
            ]
        },
        {
            "metadata": {},
            "cell_type": "code",
            "source": "# Suppose you have $100, which you can invest with a 10% return each year. After one year, it's 100\u00d71.1=110 dollars, and after two years it's 100\u00d71.1\u00d71.1=121. \n# Add code to calculate how much money you end up with after 7 years, and print the result.\n\n\n# Addition, subtraction\na= 100\nb= 1.1\n\n# Multiplication, division, modulo, and exponentiation\nafter_7_years = b ** 7\nreturn_after_yr = a*after_7_years\n\n# How much is your $100 worth after 7 years?\n\nprint( return_after_yr )",
            "execution_count": 4,
            "outputs": [
                {
                    "output_type": "stream",
                    "text": "194.87171000000012\n",
                    "name": "stdout"
                }
            ]
        },
        {
            "metadata": {},
            "cell_type": "code",
            "source": "#Calculations with variables\n#Remember how you calculated the money you ended up with after 7 years of investing 100?\n#Instead of calculating with the actual values, you can use variables instead. The savings variable you've created in the previous exercise represents the $100 you started with. It's up to you to create a new variable to represent 1.1 and then redo the calculations!\n\ngrowth_multiplier = 1.1\nsavings = 100\nyears = 7\n\nresult = savings * growth_multiplier ** years\nprint(result)",
            "execution_count": 5,
            "outputs": [
                {
                    "output_type": "stream",
                    "text": "194.87171000000012\n",
                    "name": "stdout"
                }
            ]
        },
        {
            "metadata": {},
            "cell_type": "code",
            "source": "#Create a new string, desc, with the value \"compound interest\".\n#Create a new boolean, profitable, with the value True\n\ndesc = \"compound interest\"\nprofitable = True",
            "execution_count": 8,
            "outputs": []
        },
        {
            "metadata": {},
            "cell_type": "code",
            "source": "# Calculate the product of savings and growth_multiplier. Store the result in year1. What do you think the resulting type will be? Find out by printing out the type of year1.\n# Calculate the sum of desc and desc and store the result in a new variable doubledesc. Print out doubledesc. Did you expect this?\n\nsavings = 100\ngrowth_multiplier = 1.1\n\nyear1 = savings * growth_multiplier\nprint(type(year1))\n\n\ndesc = \"compound interest\"\ndoubledesc = desc + desc\nprint(doubledesc)",
            "execution_count": 9,
            "outputs": [
                {
                    "output_type": "stream",
                    "text": "<class 'float'>\ncompound interestcompound interest\n",
                    "name": "stdout"
                }
            ]
        },
        {
            "metadata": {},
            "cell_type": "code",
            "source": "#Hit Run Code to run the code. Try to understand the error message. Fix the code such that the printout runs without errors; use the function str() to convert the variables to strings. Convert the variable pi_string to a float and store this float as a new variable, pi_float.\n\n\ngrowth_multiplier = 1.1\nsavings = 100\nyears = 7\n\nresult = savings * growth_multiplier ** years\n\nprint( \"I started with $\" + str(savings) + \" and now have $\" + str(result) + \". Awesome!\" )\n\npi_string = '3.1415926'\n\npi_float = float(pi_string)",
            "execution_count": 10,
            "outputs": [
                {
                    "output_type": "stream",
                    "text": "I started with $100 and now have $194.87171000000012. Awesome!\n",
                    "name": "stdout"
                }
            ]
        },
        {
            "metadata": {},
            "cell_type": "code",
            "source": "#Create a list, areas, that contains the area of the hallway (hall), kitchen (kit), living room (liv), bedroom (bed) and bathroom (bath), in this order. Use the predefined variables.\n#Print areas with the print() function.\n\n\n# area variables (in square meters)\nhall = 11.25\nkit = 18.0\nliv = 20.0\nbed = 10.75\nbath = 9.50\n\n# Create list areas\narea = [hall , kit ,liv , bed , bath ]\n\n# Adapt list areas\nareas = [\"hallway\" , hall, \"kitchen\" , kit, \"living room\", liv, \"bedroom\" , bed, \"bathroom\", bath]\n\n# Print areas\nprint(area)\nprint(areas)",
            "execution_count": 14,
            "outputs": [
                {
                    "output_type": "stream",
                    "text": "[11.25, 18.0, 20.0, 10.75, 9.5]\n['hallway', 11.25, 'kitchen', 18.0, 'living room', 20.0, 'bedroom', 10.75, 'bathroom', 9.5]\n",
                    "name": "stdout"
                }
            ]
        },
        {
            "metadata": {},
            "cell_type": "code",
            "source": "#Finish the list of lists so that it also contains the bedroom and bathroom data. Make sure you enter these in order!\n#Print out house; does this way of structuring your data make more sense?\n#Print out the type of house. Are you still dealing with a list?\n\n\n# area variables (in square meters)\nhall = 11.25\nkit = 18.0\nliv = 20.0\nbed = 10.75\nbath = 9.50\n\n# house information as list of lists\nhouse = [[\"hallway\", hall],\n         [\"kitchen\", kit],\n         [\"living room\", liv],\n         [\"bedroom\" , bed],\n         [\"bathroom\" , bath]]\n\n# Print out house\nprint(house)\nprint(type(house))\n\n# Print out the type of house\n",
            "execution_count": 15,
            "outputs": [
                {
                    "output_type": "stream",
                    "text": "[['hallway', 11.25], ['kitchen', 18.0], ['living room', 20.0], ['bedroom', 10.75], ['bathroom', 9.5]]\n<class 'list'>\n",
                    "name": "stdout"
                }
            ]
        },
        {
            "metadata": {},
            "cell_type": "code",
            "source": "#Print out the second element from the areas list (it has the value 11.25).\n#Subset and print out the last element of areas, being 9.50. Using a negative index makes sense here!\n#Select the number representing the area of the living room (20.0) and print it out.\n\n\n# Create the areas list\nareas = [\"hallway\", 11.25, \"kitchen\", 18.0, \"living room\", 20.0, \"bedroom\", 10.75, \"bathroom\", 9.50]\n\n# Print out second element from areas\nprint(areas[1])\n\n# Print out last element from areas\nprint(areas[-1])\n\n# Print out the area of the living room\nprint(areas[5])",
            "execution_count": 16,
            "outputs": [
                {
                    "output_type": "stream",
                    "text": "11.25\n9.5\n20.0\n",
                    "name": "stdout"
                }
            ]
        },
        {
            "metadata": {},
            "cell_type": "code",
            "source": "# Create the areas list\nareas = [\"hallway\", 11.25, \"kitchen\", 18.0, \"living room\", 20.0, \"bedroom\", 10.75, \"bathroom\", 9.50]\n\n# Sum of kitchen and bedroom area: eat_sleep_area\neat_sleep_area = areas[3] + areas[7]\n\n# Print the variable eat_sleep_area\nprint(eat_sleep_area)\n\n# Use slicing to create downstairs\ndownstairs = areas[0:6]\n\n# Use slicing to create upstairs\nupstairs = areas[6:10]\n\n# Print out downstairs and upstairs\nprint(downstairs)\nprint(upstairs)\n\n# Alternative slicing to create downstairs\ndownstairs = areas[:6]\n\n# Alternative slicing to create upstairs\nupstairs = areas[6:]\n\n# Correct the bathroom area\nareas[-1] = 10.50 \n\n# Change \"living room\" to \"chill zone\"\nareas[4] = \"chill zone\"\n\n# Add poolhouse data to areas, new list is areas_1\nareas_1 = areas + [\"poolhouse\", 24.5]\n\n# Add garage data to areas_1, new list is areas_2\nareas_2 = areas_1 + [\"garage\" , 15.45]",
            "execution_count": 2,
            "outputs": [
                {
                    "output_type": "stream",
                    "text": "28.75\n['hallway', 11.25, 'kitchen', 18.0, 'living room', 20.0]\n['bedroom', 10.75, 'bathroom', 9.5]\n",
                    "name": "stdout"
                }
            ]
        },
        {
            "metadata": {},
            "cell_type": "code",
            "source": "# Create list areas\nareas = [11.25, 18.0, 20.0, 10.75, 9.50]\n\n# Create areas_copy\nareas_copy = list(areas)\n\n\n# Change areas_copy\nareas_copy[0] = 5.0\n\n# Print areas\nprint(areas)\nprint(areas_copy)",
            "execution_count": 3,
            "outputs": [
                {
                    "output_type": "stream",
                    "text": "[11.25, 18.0, 20.0, 10.75, 9.5]\n[5.0, 18.0, 20.0, 10.75, 9.5]\n",
                    "name": "stdout"
                }
            ]
        },
        {
            "metadata": {},
            "cell_type": "code",
            "source": "# Create variables var1 and var2\nvar1 = [1, 2, 3, 4]\nvar2 = True\n\n# Print out type of var1\nprint(type(var1))\n\n# Print out length of var1\nprint(len(var1))\n\n# Convert var2 to an integer: out2\nout2 = int(var2)",
            "execution_count": 4,
            "outputs": [
                {
                    "output_type": "stream",
                    "text": "<class 'list'>\n4\n",
                    "name": "stdout"
                }
            ]
        },
        {
            "metadata": {},
            "cell_type": "code",
            "source": "# Create lists first and second\nfirst = [11.25, 18.0, 20.0]\nsecond = [10.75, 9.50]\n\n# Paste together first and second: full\nfull = first + second\nprint(full)\n\n# Sort full in descending order: full_sorted\nfull_sorted = sorted(full, reverse=True)\n\n# Print out full_sorted\nprint(full_sorted)",
            "execution_count": 5,
            "outputs": [
                {
                    "output_type": "stream",
                    "text": "[11.25, 18.0, 20.0, 10.75, 9.5]\n[20.0, 18.0, 11.25, 10.75, 9.5]\n",
                    "name": "stdout"
                }
            ]
        },
        {
            "metadata": {},
            "cell_type": "code",
            "source": "# string to experiment with: place\nplace = \"poolhouse\"\n\n# Use upper() on place: place_up\nplace_up = place.upper()\n\n# Print out place and place_up\nprint(place)\nprint(place_up)\n\n# Print out the number of o's in place\nprint(place.count('o'))",
            "execution_count": 6,
            "outputs": [
                {
                    "output_type": "stream",
                    "text": "poolhouse\nPOOLHOUSE\n3\n",
                    "name": "stdout"
                }
            ]
        },
        {
            "metadata": {},
            "cell_type": "code",
            "source": "# Create list areas\nareas = [11.25, 18.0, 20.0, 10.75, 9.50]\n\n# Print out the index of the element 20.0\nprint(areas.index(20.0))\n\n# Print out how often 9.50 appears in areas\nprint(areas.count(9.50))\n\n\n# Use append twice to add poolhouse and garage size\nareas.append(24.5)\nareas.append(15.45)\n\n\n# Print out areas\nprint(areas)\n\n# Reverse the orders of the elements in areas\nareas.reverse()\n\n# Print out areas\nprint(areas)",
            "execution_count": 7,
            "outputs": [
                {
                    "output_type": "stream",
                    "text": "2\n1\n[11.25, 18.0, 20.0, 10.75, 9.5, 24.5, 15.45]\n[15.45, 24.5, 9.5, 10.75, 20.0, 18.0, 11.25]\n",
                    "name": "stdout"
                }
            ]
        },
        {
            "metadata": {},
            "cell_type": "code",
            "source": "# Definition of radius\nr = 0.43\n\n# Import the math package\nimport math as mt\n\n# Calculate C\nC = 0\n# mt.pi = pi\nC= 2*mt.pi*r\n\n# Calculate A\nA = 0\nA= mt.pi*r**2\n\n# Build printout\nprint(\"Circumference: \" + str(C))\nprint(\"Area: \" + str(A))",
            "execution_count": 9,
            "outputs": [
                {
                    "output_type": "stream",
                    "text": "Circumference: 2.701769682087222\nArea: 0.5808804816487527\n",
                    "name": "stdout"
                }
            ]
        },
        {
            "metadata": {},
            "cell_type": "code",
            "source": "# Definition of radius\nr = 192500\n\n# Import radians function of math package\nfrom math import radians\n\n# Travel distance of Moon over 12 degrees. Store in dist.\ndeg = 12\nphi = radians(deg)\n\ndist = r*phi\n\n# Print out dist\nprint(dist)",
            "execution_count": 1,
            "outputs": [
                {
                    "output_type": "stream",
                    "text": "40317.10572106901\n",
                    "name": "stdout"
                }
            ]
        },
        {
            "metadata": {},
            "cell_type": "code",
            "source": "# Create list baseball\nbaseball = [180, 215, 210, 210, 188, 176, 209, 200]\n\n# Import the numpy package as np\nimport numpy as np\n\n# Create a numpy array from baseball: np_baseball\nnp_baseball = np.array(baseball)\n\n# Print out type of np_baseball\nprint(type(np_baseball))",
            "execution_count": null,
            "outputs": []
        },
        {
            "metadata": {},
            "cell_type": "code",
            "source": "# height is available as a regular list\n\n# Import numpy\nimport numpy as np\n\n# Create a numpy array from height_in: np_height_in\nnp_height_in = np.array(height_in)\n\n# Print out np_height_in\nprint(np_height_in)\n\n# Convert np_height_in to m: np_height_m\nnp_height_m = np_height_in * 0.0254\n\n# Print np_height_m\nprint(np_height_m)\n\n\n\n\n# Create array from height_in with metric units: np_height_m\nnp_height_m = np.array(height_in) * 0.0254\n\n# Create array from weight_lb with metric units: np_weight_kg\nnp_weight_kg = np.array(weight_lb) * 0.453592\n\n# Calculate the BMI: bmi\nbmi = np_weight_kg / np_height_m **2\n\n# Print out bmi\nprint(bmi)\n\n\n\n# Create the light array\nlight = bmi < 21\n\n# Print out light\nprint(light)\n\n# Print out BMIs of all baseball players whose BMI is below 21\nprint(bmi[light])\n\n\n# Store weight and height lists as numpy arrays\nnp_weight_lb = np.array(weight_lb)\nnp_height_in = np.array(height_in)\n\n# Print out the weight at index 50\nprint(np_weight_lb[50])\n\n# Print out sub-array of np_height_in: index 100 up to and including index 110\nprint(np_height_in[100:111])",
            "execution_count": 2,
            "outputs": [
                {
                    "output_type": "error",
                    "ename": "NameError",
                    "evalue": "name 'height_in' is not defined",
                    "traceback": [
                        "\u001b[0;31m---------------------------------------------------------------------------\u001b[0m",
                        "\u001b[0;31mNameError\u001b[0m                                 Traceback (most recent call last)",
                        "\u001b[0;32m<ipython-input-2-6911efd092e0>\u001b[0m in \u001b[0;36m<module>\u001b[0;34m\u001b[0m\n\u001b[1;32m      5\u001b[0m \u001b[0;34m\u001b[0m\u001b[0m\n\u001b[1;32m      6\u001b[0m \u001b[0;31m# Create a numpy array from height_in: np_height_in\u001b[0m\u001b[0;34m\u001b[0m\u001b[0;34m\u001b[0m\u001b[0;34m\u001b[0m\u001b[0m\n\u001b[0;32m----> 7\u001b[0;31m \u001b[0mnp_height_in\u001b[0m \u001b[0;34m=\u001b[0m \u001b[0mnp\u001b[0m\u001b[0;34m.\u001b[0m\u001b[0marray\u001b[0m\u001b[0;34m(\u001b[0m\u001b[0mheight_in\u001b[0m\u001b[0;34m)\u001b[0m\u001b[0;34m\u001b[0m\u001b[0;34m\u001b[0m\u001b[0m\n\u001b[0m\u001b[1;32m      8\u001b[0m \u001b[0;34m\u001b[0m\u001b[0m\n\u001b[1;32m      9\u001b[0m \u001b[0;31m# Print out np_height_in\u001b[0m\u001b[0;34m\u001b[0m\u001b[0;34m\u001b[0m\u001b[0;34m\u001b[0m\u001b[0m\n",
                        "\u001b[0;31mNameError\u001b[0m: name 'height_in' is not defined"
                    ]
                }
            ]
        },
        {
            "metadata": {},
            "cell_type": "code",
            "source": "# Create baseball, a list of lists\nbaseball = [[180, 78.4],\n            [215, 102.7],\n            [210, 98.5],\n            [188, 75.2]]\n\n# Import numpy\nimport numpy as np\n\n# Create a 2D numpy array from baseball: np_baseball\nnp_baseball = np.array(baseball)\n\n# Print out the type of np_baseball\nprint(type(np_baseball))\n\n# Print out the shape of np_baseball\nprint(np_baseball.shape)",
            "execution_count": 3,
            "outputs": [
                {
                    "output_type": "stream",
                    "text": "<class 'numpy.ndarray'>\n(4, 2)\n",
                    "name": "stdout"
                }
            ]
        },
        {
            "metadata": {},
            "cell_type": "code",
            "source": "# baseball is available as a regular list of lists\n\n# Import numpy package\nimport numpy as np\n\n# Create np_baseball (2 cols)\nnp_baseball = np.array(baseball)\n\n# Print out the 50th row of np_baseball\nprint(np_baseball[49,:])\n\n# Select the entire second column of np_baseball: np_weight_lb\nnp_weight_lb = np_baseball[:,1]\n\n# Print out height of 124th player\nprint(np_baseball[123,0])",
            "execution_count": null,
            "outputs": []
        },
        {
            "metadata": {},
            "cell_type": "code",
            "source": "# baseball is available as a regular list of lists\n# updated is available as 2D numpy array\n\n# Import numpy package\nimport numpy as np\n\n# Create np_baseball (3 cols)\nnp_baseball = np.array(baseball)\n\n# Print out addition of np_baseball and updated\nprint(np_baseball+updated)\n\n# Create numpy array: conversion\nconversion = np.array([0.0254,0.453592,1])\n\n# Print out product of np_baseball and conversion\nprint(np_baseball*conversion)",
            "execution_count": 4,
            "outputs": [
                {
                    "output_type": "error",
                    "ename": "NameError",
                    "evalue": "name 'updated' is not defined",
                    "traceback": [
                        "\u001b[0;31m---------------------------------------------------------------------------\u001b[0m",
                        "\u001b[0;31mNameError\u001b[0m                                 Traceback (most recent call last)",
                        "\u001b[0;32m<ipython-input-4-1ff03d6f4c43>\u001b[0m in \u001b[0;36m<module>\u001b[0;34m\u001b[0m\n\u001b[1;32m      9\u001b[0m \u001b[0;34m\u001b[0m\u001b[0m\n\u001b[1;32m     10\u001b[0m \u001b[0;31m# Print out addition of np_baseball and updated\u001b[0m\u001b[0;34m\u001b[0m\u001b[0;34m\u001b[0m\u001b[0;34m\u001b[0m\u001b[0m\n\u001b[0;32m---> 11\u001b[0;31m \u001b[0mprint\u001b[0m\u001b[0;34m(\u001b[0m\u001b[0mnp_baseball\u001b[0m\u001b[0;34m+\u001b[0m\u001b[0mupdated\u001b[0m\u001b[0;34m)\u001b[0m\u001b[0;34m\u001b[0m\u001b[0;34m\u001b[0m\u001b[0m\n\u001b[0m\u001b[1;32m     12\u001b[0m \u001b[0;34m\u001b[0m\u001b[0m\n\u001b[1;32m     13\u001b[0m \u001b[0;31m# Create numpy array: conversion\u001b[0m\u001b[0;34m\u001b[0m\u001b[0;34m\u001b[0m\u001b[0;34m\u001b[0m\u001b[0m\n",
                        "\u001b[0;31mNameError\u001b[0m: name 'updated' is not defined"
                    ]
                }
            ]
        },
        {
            "metadata": {},
            "cell_type": "code",
            "source": "# np_baseball is available\n\n# Import numpy\nimport numpy as np\n\n# Create np_height_in from np_baseball\nnp_height_in = np_baseball[:,0]\n\n# Print out the mean of np_height_in\nprint(np.mean(np_height_in))\n\n# Print out the median of np_height_in\nprint(np.median(np_height_in))",
            "execution_count": null,
            "outputs": []
        },
        {
            "metadata": {},
            "cell_type": "code",
            "source": "# np_baseball is available\n\n# Import numpy\nimport numpy as np\n\n# Print mean height (first column)\navg = np.mean(np_baseball[:,0])\nprint(\"Average: \" + str(avg))\n\n# Print median height. Replace 'None'\nmed = np.median(np_baseball[:,0])\nprint(\"Median: \" + str(med))\n\n# Print out the standard deviation on height. Replace 'None'\nstddev = np.std(np_baseball[:,0])\nprint(\"Standard Deviation: \" + str(stddev))\n\n# Print out correlation between first and second column. Replace 'None'\ncorr = np.corrcoef(np_baseball[:,0],np_baseball[:,1])\nprint(\"Correlation: \" + str(corr))",
            "execution_count": null,
            "outputs": []
        },
        {
            "metadata": {},
            "cell_type": "code",
            "source": "# heights and positions are available as lists\n\n# Import numpy\nimport numpy as np\n\n# Convert positions and heights to numpy arrays: np_positions, np_heights\nnp_positions = np.array(positions)\nnp_heights = np.array(heights)\n\n\n# Heights of the goalkeepers: gk_heights\ngk_heights = np.array(np_heights[np_positions == 'GK'])\n\n# Heights of the other players: other_heights\nother_heights = np.array(np_heights[np_positions != 'GK'])\n\n# Print out the median height of goalkeepers. Replace 'None'\nprint(\"Median height of goalkeepers: \" + str(np.median(gk_heights)))\n\n# Print out the median height of other players. Replace 'None'\nprint(\"Median height of other players: \" + str(np.median(other_heights)))",
            "execution_count": null,
            "outputs": []
        },
        {
            "metadata": {},
            "cell_type": "code",
            "source": "",
            "execution_count": null,
            "outputs": []
        },
        {
            "metadata": {},
            "cell_type": "code",
            "source": "",
            "execution_count": null,
            "outputs": []
        },
        {
            "metadata": {},
            "cell_type": "code",
            "source": "",
            "execution_count": null,
            "outputs": []
        }
    ],
    "metadata": {
        "kernelspec": {
            "name": "python3",
            "display_name": "Python 3.6",
            "language": "python"
        },
        "language_info": {
            "name": "python",
            "version": "3.6.9",
            "mimetype": "text/x-python",
            "codemirror_mode": {
                "name": "ipython",
                "version": 3
            },
            "pygments_lexer": "ipython3",
            "nbconvert_exporter": "python",
            "file_extension": ".py"
        }
    },
    "nbformat": 4,
    "nbformat_minor": 1
}