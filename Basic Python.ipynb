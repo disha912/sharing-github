{
    "cells": [
        {
            "metadata": {},
            "cell_type": "code",
            "source": "4 + 5",
            "execution_count": 1,
            "outputs": [
                {
                    "output_type": "execute_result",
                    "execution_count": 1,
                    "data": {
                        "text/plain": "9"
                    },
                    "metadata": {}
                }
            ]
        },
        {
            "metadata": {},
            "cell_type": "code",
            "source": "print( 4 + 5 )",
            "execution_count": 2,
            "outputs": [
                {
                    "output_type": "stream",
                    "text": "9\n",
                    "name": "stdout"
                }
            ]
        },
        {
            "metadata": {},
            "cell_type": "code",
            "source": "# Experiment in the IPython Shell; type 5 / 8, for example. Add another line of code to the Python script on the top-right (not in the Shell): print(7 + 10).\n\n\n# Example, do not modify!\n5/8\n\n# Put code below here\nprint(7+10)",
            "execution_count": 3,
            "outputs": [
                {
                    "output_type": "stream",
                    "text": "17\n",
                    "name": "stdout"
                }
            ]
        },
        {
            "metadata": {},
            "cell_type": "code",
            "source": "# Suppose you have $100, which you can invest with a 10% return each year. After one year, it's 100\u00d71.1=110 dollars, and after two years it's 100\u00d71.1\u00d71.1=121. \n# Add code to calculate how much money you end up with after 7 years, and print the result.\n\n\n# Addition, subtraction\na= 100\nb= 1.1\n\n# Multiplication, division, modulo, and exponentiation\nafter_7_years = b ** 7\nreturn_after_yr = a*after_7_years\n\n# How much is your $100 worth after 7 years?\n\nprint( return_after_yr )",
            "execution_count": 4,
            "outputs": [
                {
                    "output_type": "stream",
                    "text": "194.87171000000012\n",
                    "name": "stdout"
                }
            ]
        },
        {
            "metadata": {},
            "cell_type": "code",
            "source": "#Calculations with variables\n#Remember how you calculated the money you ended up with after 7 years of investing 100?\n#Instead of calculating with the actual values, you can use variables instead. The savings variable you've created in the previous exercise represents the $100 you started with. It's up to you to create a new variable to represent 1.1 and then redo the calculations!\n\ngrowth_multiplier = 1.1\nsavings = 100\nyears = 7\n\nresult = savings * growth_multiplier ** years\nprint(result)",
            "execution_count": 5,
            "outputs": [
                {
                    "output_type": "stream",
                    "text": "194.87171000000012\n",
                    "name": "stdout"
                }
            ]
        },
        {
            "metadata": {},
            "cell_type": "code",
            "source": "#Create a new string, desc, with the value \"compound interest\".\n#Create a new boolean, profitable, with the value True\n\ndesc = \"compound interest\"\nprofitable = True",
            "execution_count": 8,
            "outputs": []
        },
        {
            "metadata": {},
            "cell_type": "code",
            "source": "# Calculate the product of savings and growth_multiplier. Store the result in year1. What do you think the resulting type will be? Find out by printing out the type of year1.\n# Calculate the sum of desc and desc and store the result in a new variable doubledesc. Print out doubledesc. Did you expect this?\n\nsavings = 100\ngrowth_multiplier = 1.1\n\nyear1 = savings * growth_multiplier\nprint(type(year1))\n\n\ndesc = \"compound interest\"\ndoubledesc = desc + desc\nprint(doubledesc)",
            "execution_count": 9,
            "outputs": [
                {
                    "output_type": "stream",
                    "text": "<class 'float'>\ncompound interestcompound interest\n",
                    "name": "stdout"
                }
            ]
        },
        {
            "metadata": {},
            "cell_type": "code",
            "source": "#Hit Run Code to run the code. Try to understand the error message. Fix the code such that the printout runs without errors; use the function str() to convert the variables to strings. Convert the variable pi_string to a float and store this float as a new variable, pi_float.\n\n\ngrowth_multiplier = 1.1\nsavings = 100\nyears = 7\n\nresult = savings * growth_multiplier ** years\n\nprint( \"I started with $\" + str(savings) + \" and now have $\" + str(result) + \". Awesome!\" )\n\npi_string = '3.1415926'\n\npi_float = float(pi_string)",
            "execution_count": 10,
            "outputs": [
                {
                    "output_type": "stream",
                    "text": "I started with $100 and now have $194.87171000000012. Awesome!\n",
                    "name": "stdout"
                }
            ]
        },
        {
            "metadata": {},
            "cell_type": "code",
            "source": "#Create a list, areas, that contains the area of the hallway (hall), kitchen (kit), living room (liv), bedroom (bed) and bathroom (bath), in this order. Use the predefined variables.\n#Print areas with the print() function.\n\n\n# area variables (in square meters)\nhall = 11.25\nkit = 18.0\nliv = 20.0\nbed = 10.75\nbath = 9.50\n\n# Create list areas\narea = [hall , kit ,liv , bed , bath ]\n\n# Adapt list areas\nareas = [\"hallway\" , hall, \"kitchen\" , kit, \"living room\", liv, \"bedroom\" , bed, \"bathroom\", bath]\n\n# Print areas\nprint(area)\nprint(areas)",
            "execution_count": 14,
            "outputs": [
                {
                    "output_type": "stream",
                    "text": "[11.25, 18.0, 20.0, 10.75, 9.5]\n['hallway', 11.25, 'kitchen', 18.0, 'living room', 20.0, 'bedroom', 10.75, 'bathroom', 9.5]\n",
                    "name": "stdout"
                }
            ]
        },
        {
            "metadata": {},
            "cell_type": "code",
            "source": "#Finish the list of lists so that it also contains the bedroom and bathroom data. Make sure you enter these in order!\n#Print out house; does this way of structuring your data make more sense?\n#Print out the type of house. Are you still dealing with a list?\n\n\n# area variables (in square meters)\nhall = 11.25\nkit = 18.0\nliv = 20.0\nbed = 10.75\nbath = 9.50\n\n# house information as list of lists\nhouse = [[\"hallway\", hall],\n         [\"kitchen\", kit],\n         [\"living room\", liv],\n         [\"bedroom\" , bed],\n         [\"bathroom\" , bath]]\n\n# Print out house\nprint(house)\nprint(type(house))\n\n# Print out the type of house\n",
            "execution_count": 15,
            "outputs": [
                {
                    "output_type": "stream",
                    "text": "[['hallway', 11.25], ['kitchen', 18.0], ['living room', 20.0], ['bedroom', 10.75], ['bathroom', 9.5]]\n<class 'list'>\n",
                    "name": "stdout"
                }
            ]
        },
        {
            "metadata": {},
            "cell_type": "code",
            "source": "#Print out the second element from the areas list (it has the value 11.25).\n#Subset and print out the last element of areas, being 9.50. Using a negative index makes sense here!\n#Select the number representing the area of the living room (20.0) and print it out.\n\n\n# Create the areas list\nareas = [\"hallway\", 11.25, \"kitchen\", 18.0, \"living room\", 20.0, \"bedroom\", 10.75, \"bathroom\", 9.50]\n\n# Print out second element from areas\nprint(areas[1])\n\n# Print out last element from areas\nprint(areas[-1])\n\n# Print out the area of the living room\nprint(areas[5])",
            "execution_count": 16,
            "outputs": [
                {
                    "output_type": "stream",
                    "text": "11.25\n9.5\n20.0\n",
                    "name": "stdout"
                }
            ]
        },
        {
            "metadata": {},
            "cell_type": "code",
            "source": "# Create the areas list\nareas = [\"hallway\", 11.25, \"kitchen\", 18.0, \"living room\", 20.0, \"bedroom\", 10.75, \"bathroom\", 9.50]\n\n# Sum of kitchen and bedroom area: eat_sleep_area\neat_sleep_area = areas[3] + areas[7]\n\n# Print the variable eat_sleep_area\nprint(eat_sleep_area)\n\n# Use slicing to create downstairs\ndownstairs = areas[0:6]\n\n# Use slicing to create upstairs\nupstairs = areas[6:10]\n\n# Print out downstairs and upstairs\nprint(downstairs)\nprint(upstairs)\n\n# Alternative slicing to create downstairs\ndownstairs = areas[:6]\n\n# Alternative slicing to create upstairs\nupstairs = areas[6:]\n\n# Correct the bathroom area\nareas[-1] = 10.50 \n\n# Change \"living room\" to \"chill zone\"\nareas[4] = \"chill zone\"",
            "execution_count": 1,
            "outputs": [
                {
                    "output_type": "stream",
                    "text": "28.75\n['hallway', 11.25, 'kitchen', 18.0, 'living room', 20.0]\n['bedroom', 10.75, 'bathroom', 9.5]\n",
                    "name": "stdout"
                }
            ]
        },
        {
            "metadata": {},
            "cell_type": "code",
            "source": "",
            "execution_count": null,
            "outputs": []
        }
    ],
    "metadata": {
        "kernelspec": {
            "name": "python3",
            "display_name": "Python 3.6",
            "language": "python"
        },
        "language_info": {
            "name": "python",
            "version": "3.6.9",
            "mimetype": "text/x-python",
            "codemirror_mode": {
                "name": "ipython",
                "version": 3
            },
            "pygments_lexer": "ipython3",
            "nbconvert_exporter": "python",
            "file_extension": ".py"
        }
    },
    "nbformat": 4,
    "nbformat_minor": 1
}