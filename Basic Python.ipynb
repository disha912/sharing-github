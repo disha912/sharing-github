{
    "cells": [
        {
            "metadata": {},
            "cell_type": "code",
            "source": "4 + 5",
            "execution_count": 1,
            "outputs": [
                {
                    "output_type": "execute_result",
                    "execution_count": 1,
                    "data": {
                        "text/plain": "9"
                    },
                    "metadata": {}
                }
            ]
        },
        {
            "metadata": {},
            "cell_type": "code",
            "source": "print( 4 + 5 )",
            "execution_count": 2,
            "outputs": [
                {
                    "output_type": "stream",
                    "text": "9\n",
                    "name": "stdout"
                }
            ]
        },
        {
            "metadata": {},
            "cell_type": "code",
            "source": "# Experiment in the IPython Shell; type 5 / 8, for example. Add another line of code to the Python script on the top-right (not in the Shell): print(7 + 10).\n\n\n# Example, do not modify!\n5/8\n\n# Put code below here\nprint(7+10)",
            "execution_count": 3,
            "outputs": [
                {
                    "output_type": "stream",
                    "text": "17\n",
                    "name": "stdout"
                }
            ]
        },
        {
            "metadata": {},
            "cell_type": "code",
            "source": "# Suppose you have $100, which you can invest with a 10% return each year. After one year, it's 100\u00d71.1=110 dollars, and after two years it's 100\u00d71.1\u00d71.1=121. \n# Add code to calculate how much money you end up with after 7 years, and print the result.\n\n\n# Addition, subtraction\na= 100\nb= 1.1\n\n# Multiplication, division, modulo, and exponentiation\nafter_7_years = b ** 7\nreturn_after_yr = a*after_7_years\n\n# How much is your $100 worth after 7 years?\n\nprint( return_after_yr )",
            "execution_count": 4,
            "outputs": [
                {
                    "output_type": "stream",
                    "text": "194.87171000000012\n",
                    "name": "stdout"
                }
            ]
        },
        {
            "metadata": {},
            "cell_type": "code",
            "source": "",
            "execution_count": null,
            "outputs": []
        }
    ],
    "metadata": {
        "kernelspec": {
            "name": "python3",
            "display_name": "Python 3.6",
            "language": "python"
        },
        "language_info": {
            "name": "python",
            "version": "3.6.9",
            "mimetype": "text/x-python",
            "codemirror_mode": {
                "name": "ipython",
                "version": 3
            },
            "pygments_lexer": "ipython3",
            "nbconvert_exporter": "python",
            "file_extension": ".py"
        }
    },
    "nbformat": 4,
    "nbformat_minor": 1
}