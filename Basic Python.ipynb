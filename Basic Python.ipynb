{
    "cells": [
        {
            "metadata": {},
            "cell_type": "code",
            "source": "4 + 5",
            "execution_count": 1,
            "outputs": [
                {
                    "output_type": "execute_result",
                    "execution_count": 1,
                    "data": {
                        "text/plain": "9"
                    },
                    "metadata": {}
                }
            ]
        },
        {
            "metadata": {},
            "cell_type": "code",
            "source": "print( 4 + 5 )",
            "execution_count": 2,
            "outputs": [
                {
                    "output_type": "stream",
                    "text": "9\n",
                    "name": "stdout"
                }
            ]
        },
        {
            "metadata": {},
            "cell_type": "code",
            "source": "# Experiment in the IPython Shell; type 5 / 8, for example. Add another line of code to the Python script on the top-right (not in the Shell): print(7 + 10).\n\n\n# Example, do not modify!\n5/8\n\n# Put code below here\nprint(7+10)",
            "execution_count": 3,
            "outputs": [
                {
                    "output_type": "stream",
                    "text": "17\n",
                    "name": "stdout"
                }
            ]
        },
        {
            "metadata": {},
            "cell_type": "code",
            "source": "# Suppose you have $100, which you can invest with a 10% return each year. After one year, it's 100\u00d71.1=110 dollars, and after two years it's 100\u00d71.1\u00d71.1=121. \n# Add code to calculate how much money you end up with after 7 years, and print the result.\n\n\n# Addition, subtraction\na= 100\nb= 1.1\n\n# Multiplication, division, modulo, and exponentiation\nafter_7_years = b ** 7\nreturn_after_yr = a*after_7_years\n\n# How much is your $100 worth after 7 years?\n\nprint( return_after_yr )",
            "execution_count": 4,
            "outputs": [
                {
                    "output_type": "stream",
                    "text": "194.87171000000012\n",
                    "name": "stdout"
                }
            ]
        },
        {
            "metadata": {},
            "cell_type": "code",
            "source": "#Calculations with variables\n#Remember how you calculated the money you ended up with after 7 years of investing 100?\n#Instead of calculating with the actual values, you can use variables instead. The savings variable you've created in the previous exercise represents the $100 you started with. It's up to you to create a new variable to represent 1.1 and then redo the calculations!\n\ngrowth_multiplier = 1.1\nsavings = 100\nyears = 7\n\nresult = savings * growth_multiplier ** years\nprint(result)",
            "execution_count": 5,
            "outputs": [
                {
                    "output_type": "stream",
                    "text": "194.87171000000012\n",
                    "name": "stdout"
                }
            ]
        },
        {
            "metadata": {},
            "cell_type": "code",
            "source": "#Create a new string, desc, with the value \"compound interest\".\n#Create a new boolean, profitable, with the value True\n\ndesc = \"compound interest\"\nprofitable = True",
            "execution_count": 8,
            "outputs": []
        },
        {
            "metadata": {},
            "cell_type": "code",
            "source": "# Calculate the product of savings and growth_multiplier. Store the result in year1. What do you think the resulting type will be? Find out by printing out the type of year1.\n# Calculate the sum of desc and desc and store the result in a new variable doubledesc. Print out doubledesc. Did you expect this?\n\nsavings = 100\ngrowth_multiplier = 1.1\n\nyear1 = savings * growth_multiplier\nprint(type(year1))\n\n\ndesc = \"compound interest\"\ndoubledesc = desc + desc\nprint(doubledesc)",
            "execution_count": 9,
            "outputs": [
                {
                    "output_type": "stream",
                    "text": "<class 'float'>\ncompound interestcompound interest\n",
                    "name": "stdout"
                }
            ]
        },
        {
            "metadata": {},
            "cell_type": "code",
            "source": "#Hit Run Code to run the code. Try to understand the error message. Fix the code such that the printout runs without errors; use the function str() to convert the variables to strings. Convert the variable pi_string to a float and store this float as a new variable, pi_float.\n\n\ngrowth_multiplier = 1.1\nsavings = 100\nyears = 7\n\nresult = savings * growth_multiplier ** years\n\nprint( \"I started with $\" + str(savings) + \" and now have $\" + str(result) + \". Awesome!\" )\n\npi_string = '3.1415926'\n\npi_float = float(pi_string)",
            "execution_count": 10,
            "outputs": [
                {
                    "output_type": "stream",
                    "text": "I started with $100 and now have $194.87171000000012. Awesome!\n",
                    "name": "stdout"
                }
            ]
        },
        {
            "metadata": {},
            "cell_type": "code",
            "source": "",
            "execution_count": null,
            "outputs": []
        }
    ],
    "metadata": {
        "kernelspec": {
            "name": "python3",
            "display_name": "Python 3.6",
            "language": "python"
        },
        "language_info": {
            "name": "python",
            "version": "3.6.9",
            "mimetype": "text/x-python",
            "codemirror_mode": {
                "name": "ipython",
                "version": 3
            },
            "pygments_lexer": "ipython3",
            "nbconvert_exporter": "python",
            "file_extension": ".py"
        }
    },
    "nbformat": 4,
    "nbformat_minor": 1
}