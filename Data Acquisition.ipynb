{
    "cells": [
        {
            "metadata": {
                "scrolled": true
            },
            "cell_type": "code",
            "source": "import pandas as pd\n\nurl = 'https://archive.ics.uci.edu/ml/machine-learning-databases/autos/imports-85.data'\n\ndf = pd.read_csv(url,header=None)\ndf.head(6)\n\n#check the bottom 10 rows of data frame \"df\"\n\ndf.tail(10)\n\nheaders = [\"symboling\",\"normalized-losses\",\"make\",\"fuel-type\",\"aspiration\", \"num-of-doors\",\"body-style\",\n         \"drive-wheels\",\"engine-location\",\"wheel-base\", \"length\",\"width\",\"height\",\"curb-weight\",\"engine-type\",\n         \"num-of-cylinders\", \"engine-size\",\"fuel-system\",\"bore\",\"stroke\",\"compression-ratio\",\"horsepower\",\n         \"peak-rpm\",\"city-mpg\",\"highway-mpg\",\"price\"]\n\ndf.columns = headers\ndf1 = df.replace('?','NaN')\ndf2 = df1.dropna(subset=['price'],axis = 0)\ndf.columns\n\n#location = 'C:\\Users\\t5759dv\\Documents\\Faltu'\n#df2.to_csv(location)\n\n\n# Basic Insight of Dataset\n\ndf2.dtypes\ndf2.describe(include = 'all')\n\ndf2[['length','compression-ratio']].describe()\n\ndf2.info()",
            "execution_count": 32,
            "outputs": [
                {
                    "output_type": "stream",
                    "text": "<class 'pandas.core.frame.DataFrame'>\nInt64Index: 205 entries, 0 to 204\nData columns (total 26 columns):\n #   Column             Non-Null Count  Dtype  \n---  ------             --------------  -----  \n 0   symboling          205 non-null    int64  \n 1   normalized-losses  205 non-null    object \n 2   make               205 non-null    object \n 3   fuel-type          205 non-null    object \n 4   aspiration         205 non-null    object \n 5   num-of-doors       205 non-null    object \n 6   body-style         205 non-null    object \n 7   drive-wheels       205 non-null    object \n 8   engine-location    205 non-null    object \n 9   wheel-base         205 non-null    float64\n 10  length             205 non-null    float64\n 11  width              205 non-null    float64\n 12  height             205 non-null    float64\n 13  curb-weight        205 non-null    int64  \n 14  engine-type        205 non-null    object \n 15  num-of-cylinders   205 non-null    object \n 16  engine-size        205 non-null    int64  \n 17  fuel-system        205 non-null    object \n 18  bore               205 non-null    object \n 19  stroke             205 non-null    object \n 20  compression-ratio  205 non-null    float64\n 21  horsepower         205 non-null    object \n 22  peak-rpm           205 non-null    object \n 23  city-mpg           205 non-null    int64  \n 24  highway-mpg        205 non-null    int64  \n 25  price              205 non-null    object \ndtypes: float64(5), int64(5), object(16)\nmemory usage: 43.2+ KB\n",
                    "name": "stdout"
                }
            ]
        },
        {
            "metadata": {},
            "cell_type": "code",
            "source": "#Data Wrangling\n\nimport pandas as pd\nimport numpy as np\n\nurl = 'https://cf-courses-data.s3.us.cloud-object-storage.appdomain.cloud/IBMDeveloperSkillsNetwork-DA0101EN-SkillsNetwork/labs/Data%20files/auto.csv'\nheaders = [\"symboling\",\"normalized-losses\",\"make\",\"fuel-type\",\"aspiration\", \"num-of-doors\",\"body-style\",\n         \"drive-wheels\",\"engine-location\",\"wheel-base\", \"length\",\"width\",\"height\",\"curb-weight\",\"engine-type\",\n         \"num-of-cylinders\", \"engine-size\",\"fuel-system\",\"bore\",\"stroke\",\"compression-ratio\",\"horsepower\",\n         \"peak-rpm\",\"city-mpg\",\"highway-mpg\",\"price\"]\ndf = pd.read_csv(url, names = headers)\n\ndf = df.replace('?',np.nan )\nmissing_data = df.isnull()\n\n\n\n\ndata_normalized=df[['normalized-losses']]\n#data_normalized\n\n        \n#miss = missing_data[missing_data[columns].values.any()]\n\n\n#df.iloc[0,:]\nmiss = pd.DataFrame(missing_data.any())\nmiss\n\n#df[missing_data.any()]\n#df[missing_data.any(axis=1)]\n\n\n\n",
            "execution_count": 159,
            "outputs": [
                {
                    "output_type": "execute_result",
                    "execution_count": 159,
                    "data": {
                        "text/plain": "                       0\nsymboling          False\nnormalized-losses   True\nmake               False\nfuel-type          False\naspiration         False\nnum-of-doors        True\nbody-style         False\ndrive-wheels       False\nengine-location    False\nwheel-base         False\nlength             False\nwidth              False\nheight             False\ncurb-weight        False\nengine-type        False\nnum-of-cylinders   False\nengine-size        False\nfuel-system        False\nbore                True\nstroke              True\ncompression-ratio  False\nhorsepower          True\npeak-rpm            True\ncity-mpg           False\nhighway-mpg        False\nprice               True",
                        "text/html": "<div>\n<style scoped>\n    .dataframe tbody tr th:only-of-type {\n        vertical-align: middle;\n    }\n\n    .dataframe tbody tr th {\n        vertical-align: top;\n    }\n\n    .dataframe thead th {\n        text-align: right;\n    }\n</style>\n<table border=\"1\" class=\"dataframe\">\n  <thead>\n    <tr style=\"text-align: right;\">\n      <th></th>\n      <th>0</th>\n    </tr>\n  </thead>\n  <tbody>\n    <tr>\n      <th>symboling</th>\n      <td>False</td>\n    </tr>\n    <tr>\n      <th>normalized-losses</th>\n      <td>True</td>\n    </tr>\n    <tr>\n      <th>make</th>\n      <td>False</td>\n    </tr>\n    <tr>\n      <th>fuel-type</th>\n      <td>False</td>\n    </tr>\n    <tr>\n      <th>aspiration</th>\n      <td>False</td>\n    </tr>\n    <tr>\n      <th>num-of-doors</th>\n      <td>True</td>\n    </tr>\n    <tr>\n      <th>body-style</th>\n      <td>False</td>\n    </tr>\n    <tr>\n      <th>drive-wheels</th>\n      <td>False</td>\n    </tr>\n    <tr>\n      <th>engine-location</th>\n      <td>False</td>\n    </tr>\n    <tr>\n      <th>wheel-base</th>\n      <td>False</td>\n    </tr>\n    <tr>\n      <th>length</th>\n      <td>False</td>\n    </tr>\n    <tr>\n      <th>width</th>\n      <td>False</td>\n    </tr>\n    <tr>\n      <th>height</th>\n      <td>False</td>\n    </tr>\n    <tr>\n      <th>curb-weight</th>\n      <td>False</td>\n    </tr>\n    <tr>\n      <th>engine-type</th>\n      <td>False</td>\n    </tr>\n    <tr>\n      <th>num-of-cylinders</th>\n      <td>False</td>\n    </tr>\n    <tr>\n      <th>engine-size</th>\n      <td>False</td>\n    </tr>\n    <tr>\n      <th>fuel-system</th>\n      <td>False</td>\n    </tr>\n    <tr>\n      <th>bore</th>\n      <td>True</td>\n    </tr>\n    <tr>\n      <th>stroke</th>\n      <td>True</td>\n    </tr>\n    <tr>\n      <th>compression-ratio</th>\n      <td>False</td>\n    </tr>\n    <tr>\n      <th>horsepower</th>\n      <td>True</td>\n    </tr>\n    <tr>\n      <th>peak-rpm</th>\n      <td>True</td>\n    </tr>\n    <tr>\n      <th>city-mpg</th>\n      <td>False</td>\n    </tr>\n    <tr>\n      <th>highway-mpg</th>\n      <td>False</td>\n    </tr>\n    <tr>\n      <th>price</th>\n      <td>True</td>\n    </tr>\n  </tbody>\n</table>\n</div>"
                    },
                    "metadata": {}
                }
            ]
        },
        {
            "metadata": {},
            "cell_type": "code",
            "source": "",
            "execution_count": null,
            "outputs": []
        },
        {
            "metadata": {},
            "cell_type": "code",
            "source": "",
            "execution_count": null,
            "outputs": []
        },
        {
            "metadata": {},
            "cell_type": "code",
            "source": "",
            "execution_count": null,
            "outputs": []
        }
    ],
    "metadata": {
        "kernelspec": {
            "name": "python3",
            "display_name": "Python 3.7",
            "language": "python"
        },
        "language_info": {
            "name": "python",
            "version": "3.7.9",
            "mimetype": "text/x-python",
            "codemirror_mode": {
                "name": "ipython",
                "version": 3
            },
            "pygments_lexer": "ipython3",
            "nbconvert_exporter": "python",
            "file_extension": ".py"
        }
    },
    "nbformat": 4,
    "nbformat_minor": 1
}