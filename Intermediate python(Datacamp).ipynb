{
    "cells": [
        {
            "metadata": {
                "collapsed": true
            },
            "cell_type": "code",
            "source": "# Print the last item from year and pop\n\nprint(year[-1])\nprint(pop[-1])\n\n\n# Import matplotlib.pyplot as plt\nimport matplotlib.pyplot as plt\n\n# Make a line plot: year on the x-axis, pop on the y-axis\nplt.plot(year, pop)\n\n# Display the plot with plt.show()\nplt.show()",
            "execution_count": null,
            "outputs": []
        },
        {
            "metadata": {},
            "cell_type": "code",
            "source": "# Print the last item of gdp_cap and life_exp\nprint(gdp_cap[-1])\nprint(life_exp[-1])\n\n\n# Make a line plot, gdp_cap on the x-axis, life_exp on the y-axis\nimport matplotlib.pyplot as plt\nplt.plot(gdp_cap,life_exp)\nplt.show()\n\n# Display the plot",
            "execution_count": null,
            "outputs": []
        },
        {
            "metadata": {},
            "cell_type": "code",
            "source": "# Change the line plot below to a scatter plot\nplt.scatter(gdp_cap, life_exp)\n\n# Put the x-axis on a logarithmic scale\nplt.xscale('log')\n\n# Show plot\nplt.show()",
            "execution_count": null,
            "outputs": []
        },
        {
            "metadata": {},
            "cell_type": "code",
            "source": "# Create histogram of life_exp data\nimport matplotlib.pyplot as plt\nplt.hist(life_exp)\n\n# Display histogram\nplt.show()",
            "execution_count": null,
            "outputs": []
        },
        {
            "metadata": {},
            "cell_type": "code",
            "source": "# Build histogram with 5 bins\nimport matplotlib.pyplot as plt\nplt.hist(life_exp, bins=5)\n\n# Show and clean up plot\nplt.show()\nplt.clf()\n\n# Build histogram with 20 bins\nplt.hist(life_exp, bins=20)\n\n# Show and clean up again\nplt.show()\nplt.clf()",
            "execution_count": null,
            "outputs": []
        },
        {
            "metadata": {},
            "cell_type": "code",
            "source": "# Basic scatter plot, log scale\nplt.scatter(gdp_cap, life_exp)\nplt.xscale('log') \n\n# Strings\nxlab = 'GDP per Capita [in USD]'\nylab = 'Life Expectancy [in years]'\ntitle = 'World Development in 2007'\n\n# Add axis labels\nplt.xlabel(xlab)\nplt.ylabel(ylab)\n\n# Add title\nplt.title(title)\n\n# Definition of tick_val and tick_lab\ntick_val = [1000, 10000, 100000]\ntick_lab = ['1k', '10k', '100k']\n\n# Adapt the ticks on the x-axis\nplt.xticks(tick_val,tick_lab)\n\n# After customizing, display the plot\nplt.show()",
            "execution_count": null,
            "outputs": []
        },
        {
            "metadata": {},
            "cell_type": "code",
            "source": "# Import numpy as np\nimport numpy as np\n\n# Store pop as a numpy array: np_pop\nnp_pop = np.array(pop)\n\n# Double np_pop\nnp_pop = np_pop*2\n\n# Update: set s argument to np_pop\nplt.scatter(gdp_cap, life_exp, s = np_pop)\n\n# Specify c and alpha inside plt.scatter()\nplt.scatter(x = gdp_cap, y = life_exp, s = np.array(pop) * 2, c = col, alpha = 0.8)\n\n# Add grid() call\nplt.grid(True)\n\n# Previous customizations\nplt.xscale('log') \nplt.xlabel('GDP per Capita [in USD]')\nplt.ylabel('Life Expectancy [in years]')\nplt.title('World Development in 2007')\nplt.xticks([1000, 10000, 100000],['1k', '10k', '100k'])\n\n# Display the plot\nplt.show()",
            "execution_count": null,
            "outputs": []
        },
        {
            "metadata": {},
            "cell_type": "code",
            "source": "# Definition of dictionary\neurope = {'spain':'madrid', 'france':'paris', 'germany':'berlin', 'norway':'oslo' }\n\n# Print out the keys in europe\nprint(europe.keys())\n\n# Print out value that belongs to key 'norway'\nprint(europe['norway'])",
            "execution_count": null,
            "outputs": []
        },
        {
            "metadata": {},
            "cell_type": "code",
            "source": "# Definition of dictionary\neurope = {'spain':'madrid', 'france':'paris', 'germany':'berlin', 'norway':'oslo' }\n\n# Add italy to europe\neurope[\"italy\"] = 'rome'\n\n# Print out italy in europe\nprint('italy' in europe)\n\n# Add poland to europe\neurope['poland'] = 'warsaw'\n\n# Print europe\nprint(europe)",
            "execution_count": null,
            "outputs": []
        },
        {
            "metadata": {},
            "cell_type": "code",
            "source": "# Definition of dictionary\neurope = {'spain':'madrid', 'france':'paris', 'germany':'bonn',\n          'norway':'oslo', 'italy':'rome', 'poland':'warsaw',\n          'australia':'vienna' }\n\n# Update capital of germany\neurope['germany'] = 'berlin'\n\n# Remove australia\ndel(europe['australia'])\n\n# Print europe\nprint(europe)",
            "execution_count": null,
            "outputs": []
        },
        {
            "metadata": {},
            "cell_type": "code",
            "source": "# Dictionary of dictionaries\neurope = { 'spain': { 'capital':'madrid', 'population':46.77 },\n           'france': { 'capital':'paris', 'population':66.03 },\n           'germany': { 'capital':'berlin', 'population':80.62 },\n           'norway': { 'capital':'oslo', 'population':5.084 } }\n\n\n# Print out the capital of France\nprint(europe['france'])\n\n# Create sub-dictionary data\ndata= {'capital':'rome' ,'population':59.83 }\n\n# Add data to europe under key 'italy'\neurope['italy'] = data\n\n# Print europe\nprint(europe)",
            "execution_count": null,
            "outputs": []
        },
        {
            "metadata": {},
            "cell_type": "code",
            "source": "# Pre-defined lists\nnames = ['United States', 'Australia', 'Japan', 'India', 'Russia', 'Morocco', 'Egypt']\ndr =  [True, False, False, False, True, True, True]\ncpc = [809, 731, 588, 18, 200, 70, 45]\n\n# Import pandas as pd\nimport pandas as pd\n\n# Create dictionary my_dict with three key:value pairs: my_dict\nmy_dict ={'country':names,'drives_right':dr,'cars_per_cap':cpc}\n\n# Build a DataFrame cars from my_dict: cars\ncars = pd.DataFrame(my_dict)\n\n\n# Definition of row_labels\nrow_labels = ['US', 'AUS', 'JPN', 'IN', 'RU', 'MOR', 'EG']\n\n# Specify row labels of cars\ncars.index = row_labels\n\n# Print cars\nprint(cars)",
            "execution_count": null,
            "outputs": []
        },
        {
            "metadata": {},
            "cell_type": "code",
            "source": "# Import pandas as pd\nimport pandas as pd\n\n# Import the cars.csv data: cars\ncars = pd.read_csv('cars.csv')\n\n# Fix import by including index_col\ncars = pd.read_csv('cars.csv' , index_col = 0)\n\n# Print out cars\nprint(cars)",
            "execution_count": null,
            "outputs": []
        },
        {
            "metadata": {},
            "cell_type": "code",
            "source": "# Import cars data\nimport pandas as pd\ncars = pd.read_csv('cars.csv', index_col = 0)\nprint(cars)\n\n# Print out country column as Pandas Series\nprint(cars['country'])\n\n# Print out country column as Pandas DataFrame\nprint(cars[['country']])\n\n# Print out DataFrame with country and drives_right columns\nprint(cars[['country','drives_right']])\n\n# Print out first 3 observations\nprint(cars.iloc[[0,1,2]])\n\n# Print out fourth, fifth and sixth observation\nprint(cars.iloc[[3,4,5]])\n\n\n# Print out drives_right value of Morocco\nprint(cars.loc[['MOR'],['drives_right']])\n\n# Print sub-DataFrame\nprint(cars.loc[['RU','MOR'],['country','drives_right']])\n\n# Print out drives_right column as Series\nprint(cars['drives_right'])\n\n# Print out drives_right column as DataFrame\nprint(cars[['drives_right']])\n\n# Print out cars_per_cap and drives_right as DataFrame\nprint(cars[['cars_per_cap','drives_right']])",
            "execution_count": null,
            "outputs": []
        },
        {
            "metadata": {},
            "cell_type": "code",
            "source": "# Comparison of booleans\nTrue== False\n\n# Comparison of integers\n-5 *15 != 75\n\n# Comparison of strings\n\"pyscript\"==\"PyScript\"\n\n# Compare a boolean with an integer\nTrue == 1",
            "execution_count": null,
            "outputs": []
        },
        {
            "metadata": {},
            "cell_type": "code",
            "source": "# Comparison of integers\nx = -3 * 6\nprint(x >= -10)\n\n\n# Comparison of strings\ny = \"test\"\nprint(\"test\" <= y)\n\n\n# Comparison of booleans\nprint(True > False)",
            "execution_count": null,
            "outputs": []
        },
        {
            "metadata": {},
            "cell_type": "code",
            "source": "# Create arrays\nimport numpy as np\nmy_house = np.array([18.0, 20.0, 10.75, 9.50])\nyour_house = np.array([14.0, 24.0, 14.25, 9.0])\n\n# my_house greater than or equal to 18\nprint(my_house >= 18)\n\n# my_house less than your_house\nprint(my_house < your_house)",
            "execution_count": null,
            "outputs": []
        },
        {
            "metadata": {},
            "cell_type": "code",
            "source": "# Define variables\nmy_kitchen = 18.0\nyour_kitchen = 14.0\nimport numpy as np\n\n# my_kitchen bigger than 10 and smaller than 18?\nprint(np.logical_and(my_kitchen>10, my_kitchen<18))\n\n# my_kitchen smaller than 14 or bigger than 17?\nprint(np.logical_or(my_kitchen<14,my_kitchen>17))\n\n# Double my_kitchen smaller than triple your_kitchen?\nprint(my_kitchen*2 < your_kitchen*3)",
            "execution_count": null,
            "outputs": []
        },
        {
            "metadata": {},
            "cell_type": "code",
            "source": "# Create arrays\nimport numpy as np\nmy_house = np.array([18.0, 20.0, 10.75, 9.50])\nyour_house = np.array([14.0, 24.0, 14.25, 9.0])\n\n# my_house greater than 18.5 or smaller than 10\nprint(np.logical_or(my_house>18.5,my_house<10))\n\n# Both my_house and your_house smaller than 11\nprint(np.logical_and(my_house<21,your_house<12 ))",
            "execution_count": null,
            "outputs": []
        },
        {
            "metadata": {},
            "cell_type": "code",
            "source": "# Define variables\nroom = \"bed\"\narea = 14.0\n\n# if-elif-else construct for room\nif room == \"kit\" :\n    print(\"looking around in the kitchen.\")\nelif room == \"bed\":\n    print(\"looking around in the bedroom.\")\nelse :\n    print(\"looking around elsewhere.\")\n\n# if-elif-else construct for area\nif area > 15 :\n    print(\"big place!\")\nelif area > 10 :\n    print(\"medium size, nice!\")\nelse :\n    print(\"pretty small.\")",
            "execution_count": null,
            "outputs": []
        },
        {
            "metadata": {},
            "cell_type": "code",
            "source": "# Import cars data\nimport pandas as pd\ncars = pd.read_csv('cars.csv', index_col = 0)\nprint(cars)\n\n# Extract drives_right column as Series: dr\ndr = cars[\"drives_right\"]\n\n# Use dr to subset cars: sel\nsel = cars[dr]\nsel = cars[cars['drives_right']]\n\n\n# Print sel\nprint(sel)",
            "execution_count": null,
            "outputs": []
        },
        {
            "metadata": {},
            "cell_type": "code",
            "source": "# Import cars data\nimport pandas as pd\nimport numpy as np\n\ncars = pd.read_csv('cars.csv', index_col = 0)\nprint(cars)\n\n# Create car_maniac: observations that have a cars_per_cap over 500\ncar_maniac = cars[np.logical_not(cars[\"cars_per_cap\"]<500)]\n\n\n\n# Print car_maniac\nprint(car_maniac)",
            "execution_count": null,
            "outputs": []
        },
        {
            "metadata": {},
            "cell_type": "code",
            "source": "# Import cars data\nimport pandas as pd\ncars = pd.read_csv('cars.csv', index_col = 0)\n\n# Import numpy, you'll need this\nimport numpy as np\n\n# Create medium: observations with cars_per_cap between 100 and 500\nmedium = cars[np.logical_and(cars['cars_per_cap'] >=100,cars['cars_per_cap'] <= 500)]\n\n\n\n# Print medium\nprint(medium)",
            "execution_count": null,
            "outputs": []
        },
        {
            "metadata": {},
            "cell_type": "code",
            "source": "# areas list\nareas = [11.25, 18.0, 20.0, 10.75, 9.50]\n\n# Code the for loop\nfor i in areas:\n    print(i)",
            "execution_count": null,
            "outputs": []
        },
        {
            "metadata": {},
            "cell_type": "code",
            "source": "# house list of lists\nhouse = [[\"hallway\", 11.25], \n         [\"kitchen\", 18.0], \n         [\"living room\", 20.0], \n         [\"bedroom\", 10.75], \n         [\"bathroom\", 9.50]]\n\ni=0\n         \n# Build a for loop from scratch\nfor a in house:\n    print(\"the\", a[i] , \"is\", a[i+1], 'sqm')",
            "execution_count": null,
            "outputs": []
        },
        {
            "metadata": {},
            "cell_type": "code",
            "source": "# Definition of dictionary\neurope= {'spain':'madrid', 'france':'paris', 'germany':'berlin',\n          'norway':'oslo', 'italy':'rome', 'poland':'warsaw', 'austria':'vienna' }\n          \n# Iterate over europe\nfor key, value in europe.items():\n    print('the capital of' , key,'is' , value )\n    \n    \n###############################################3\n\n\n\n# Import numpy as np\nimport numpy as np\n\n# For loop over np_height\nfor i in np.nditer(np_height):\n    print(i,'inches')\n\n# For loop over np_baseball\nfor x in np.nditer(np_baseball):\n    print(x)",
            "execution_count": null,
            "outputs": []
        },
        {
            "metadata": {},
            "cell_type": "code",
            "source": "# Import cars data\nimport pandas as pd\ncars = pd.read_csv('cars.csv', index_col = 0)\n\n# Iterate over rows of cars\nfor lab, row in cars.iterrows() :\n    print(lab)\n    print(row)",
            "execution_count": null,
            "outputs": []
        }
    ],
    "metadata": {
        "kernelspec": {
            "name": "python3",
            "display_name": "Python 3.7",
            "language": "python"
        },
        "language_info": {
            "name": "python",
            "version": "3.7.9",
            "mimetype": "text/x-python",
            "codemirror_mode": {
                "name": "ipython",
                "version": 3
            },
            "pygments_lexer": "ipython3",
            "nbconvert_exporter": "python",
            "file_extension": ".py"
        }
    },
    "nbformat": 4,
    "nbformat_minor": 1
}