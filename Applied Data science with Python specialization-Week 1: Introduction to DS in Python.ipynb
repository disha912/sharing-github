{
    "cells": [
        {
            "metadata": {},
            "cell_type": "code",
            "source": "#Datetime\n\n\n\nimport datetime as dt\nimport time as tm\n\ncurrenttime=tm.time()\nprint(currenttime)\n\ncurrentdatetime = dt.datetime.fromtimestamp(tm.time())\nprint(currentdatetime)\n\nprint(currentdatetime.year, currentdatetime.month,currentdatetime.day, currentdatetime.hour , currentdatetime.minute, currentdatetime.second)\n\ndelta=dt.timedelta(days=100)\n\n\n\ndiffer = currentdatetime - delta\nprint(differ)\n\n\n",
            "execution_count": 10,
            "outputs": [
                {
                    "output_type": "stream",
                    "text": "1606096408.5231256\n2020-11-23 01:53:28.523312\n2020 11 23 1 53 28\n2020-08-15 01:53:28.523312\n",
                    "name": "stdout"
                }
            ]
        },
        {
            "metadata": {},
            "cell_type": "code",
            "source": "# Objects and map\n\n\nclass people():\n    \n    department='Computer Science'\n    \n    def name(self, personname):\n        self.name=personname\n        \n    def occupation(self, designation):\n        self.occupation=designation\n        \n\npeople = people()\npeople.name('Disha')\npeople.occupation('developer')\n\nprint('{} works as a {}'.format(people.name, people.occupation))",
            "execution_count": 12,
            "outputs": [
                {
                    "output_type": "stream",
                    "text": "Disha works as a developer\n",
                    "name": "stdout"
                }
            ]
        },
        {
            "metadata": {},
            "cell_type": "code",
            "source": "",
            "execution_count": null,
            "outputs": []
        }
    ],
    "metadata": {
        "kernelspec": {
            "name": "python3",
            "display_name": "Python 3.7",
            "language": "python"
        },
        "language_info": {
            "name": "python",
            "version": "3.7.9",
            "mimetype": "text/x-python",
            "codemirror_mode": {
                "name": "ipython",
                "version": 3
            },
            "pygments_lexer": "ipython3",
            "nbconvert_exporter": "python",
            "file_extension": ".py"
        }
    },
    "nbformat": 4,
    "nbformat_minor": 1
}