{
    "cells": [
        {
            "metadata": {},
            "cell_type": "code",
            "source": "#Datetime\n\n\n\nimport datetime as dt\nimport time as tm\n\ncurrenttime=tm.time()\nprint(currenttime)\n\ncurrentdatetime = dt.datetime.fromtimestamp(tm.time())\nprint(currentdatetime)\n\nprint(currentdatetime.year, currentdatetime.month,currentdatetime.day, currentdatetime.hour , currentdatetime.minute, currentdatetime.second)\n\ndelta=dt.timedelta(days=100)\n\n\n\ndiffer = currentdatetime - delta\nprint(differ)\n\n\n",
            "execution_count": 10,
            "outputs": [
                {
                    "output_type": "stream",
                    "text": "1606096408.5231256\n2020-11-23 01:53:28.523312\n2020 11 23 1 53 28\n2020-08-15 01:53:28.523312\n",
                    "name": "stdout"
                }
            ]
        },
        {
            "metadata": {},
            "cell_type": "code",
            "source": "# Objects and map\n\n\nclass people():\n    \n    department='Computer Science'\n    \n    def name(self, personname):\n        self.name=personname\n        \n    def occupation(self, designation):\n        self.occupation=designation\n        \n\npeople = people()\npeople.name('Disha')\npeople.occupation('developer')\n\nprint('{} works as a {}'.format(people.name, people.occupation))",
            "execution_count": 12,
            "outputs": [
                {
                    "output_type": "stream",
                    "text": "Disha works as a developer\n",
                    "name": "stdout"
                }
            ]
        },
        {
            "metadata": {},
            "cell_type": "code",
            "source": "# List comprehension\n\n\ndef times_tables():\n    lst = []\n    for i in range(10):\n        for j in range (10):\n            lst.append(i*j)\n    return lst\n\ntimes_tables() == list( i*j for i in range(10) for j in range(10) )",
            "execution_count": 13,
            "outputs": [
                {
                    "output_type": "execute_result",
                    "execution_count": 13,
                    "data": {
                        "text/plain": "True"
                    },
                    "metadata": {}
                }
            ]
        },
        {
            "metadata": {},
            "cell_type": "code",
            "source": "# Numerical Python Library (NumPy)\n\nimport numpy as np\nimport math\n\na=np.array([1,2,3])\nprint(a.ndim)\nprint(a.shape)\nprint(a.dtype)\n\nd=np.zeros((3,4))\ne=np.ones((1,2))\nprint(d)\nprint(e)\n\nf=np.random.rand(6)\nprint(f)\n\ng=np.arange(34,104, 5)\nprint(g)\n\nh=np.linspace(1,56, 23)\nprint(h)\n\ni=np.array([[1,2,3],[5,2,4]])\nj=np.array([[7,3,9],[8,2,1]])\nk=i+j\nprint(k)\n\nprint(k.sum())\nprint(k.min())\nprint(k.mean())\n\nl=np.arange(30,135,3).reshape(5,7)\nprint(l)\n\n\n###########################################\n\n\nfrom PIL import Image\nfrom IPython.display import display\n\n# im=Image.open('chris.tiff')\n#display(im)\n#imagedisp = np.array(im)\n#print(imagedisp.shape) \n\nm=np.arange(0,255,1)\nprint(m)\nn=np.full(m.shape, 255)\nprint(n)\no=n-m\nprint(o)\n\n\n######################################\n\n\n\n",
            "execution_count": 45,
            "outputs": [
                {
                    "output_type": "stream",
                    "text": "1\n(3,)\nint64\n[[0. 0. 0. 0.]\n [0. 0. 0. 0.]\n [0. 0. 0. 0.]]\n[[1. 1.]]\n[0.0380471  0.99497907 0.76004035 0.37582656 0.75603623 0.29396192]\n[34 39 44 49 54 59 64 69 74 79 84 89 94 99]\n[ 1.   3.5  6.   8.5 11.  13.5 16.  18.5 21.  23.5 26.  28.5 31.  33.5\n 36.  38.5 41.  43.5 46.  48.5 51.  53.5 56. ]\n[[ 8  5 12]\n [13  4  5]]\n47\n4\n7.833333333333333\n[[ 30  33  36  39  42  45  48]\n [ 51  54  57  60  63  66  69]\n [ 72  75  78  81  84  87  90]\n [ 93  96  99 102 105 108 111]\n [114 117 120 123 126 129 132]]\n(255,)\n[255 255 255 255 255 255 255 255 255 255 255 255 255 255 255 255 255 255\n 255 255 255 255 255 255 255 255 255 255 255 255 255 255 255 255 255 255\n 255 255 255 255 255 255 255 255 255 255 255 255 255 255 255 255 255 255\n 255 255 255 255 255 255 255 255 255 255 255 255 255 255 255 255 255 255\n 255 255 255 255 255 255 255 255 255 255 255 255 255 255 255 255 255 255\n 255 255 255 255 255 255 255 255 255 255 255 255 255 255 255 255 255 255\n 255 255 255 255 255 255 255 255 255 255 255 255 255 255 255 255 255 255\n 255 255 255 255 255 255 255 255 255 255 255 255 255 255 255 255 255 255\n 255 255 255 255 255 255 255 255 255 255 255 255 255 255 255 255 255 255\n 255 255 255 255 255 255 255 255 255 255 255 255 255 255 255 255 255 255\n 255 255 255 255 255 255 255 255 255 255 255 255 255 255 255 255 255 255\n 255 255 255 255 255 255 255 255 255 255 255 255 255 255 255 255 255 255\n 255 255 255 255 255 255 255 255 255 255 255 255 255 255 255 255 255 255\n 255 255 255 255 255 255 255 255 255 255 255 255 255 255 255 255 255 255\n 255 255 255]\n[255 254 253 252 251 250 249 248 247 246 245 244 243 242 241 240 239 238\n 237 236 235 234 233 232 231 230 229 228 227 226 225 224 223 222 221 220\n 219 218 217 216 215 214 213 212 211 210 209 208 207 206 205 204 203 202\n 201 200 199 198 197 196 195 194 193 192 191 190 189 188 187 186 185 184\n 183 182 181 180 179 178 177 176 175 174 173 172 171 170 169 168 167 166\n 165 164 163 162 161 160 159 158 157 156 155 154 153 152 151 150 149 148\n 147 146 145 144 143 142 141 140 139 138 137 136 135 134 133 132 131 130\n 129 128 127 126 125 124 123 122 121 120 119 118 117 116 115 114 113 112\n 111 110 109 108 107 106 105 104 103 102 101 100  99  98  97  96  95  94\n  93  92  91  90  89  88  87  86  85  84  83  82  81  80  79  78  77  76\n  75  74  73  72  71  70  69  68  67  66  65  64  63  62  61  60  59  58\n  57  56  55  54  53  52  51  50  49  48  47  46  45  44  43  42  41  40\n  39  38  37  36  35  34  33  32  31  30  29  28  27  26  25  24  23  22\n  21  20  19  18  17  16  15  14  13  12  11  10   9   8   7   6   5   4\n   3   2   1]\n",
                    "name": "stdout"
                }
            ]
        },
        {
            "metadata": {},
            "cell_type": "code",
            "source": "",
            "execution_count": null,
            "outputs": []
        }
    ],
    "metadata": {
        "kernelspec": {
            "name": "python3",
            "display_name": "Python 3.7",
            "language": "python"
        },
        "language_info": {
            "name": "python",
            "version": "3.7.9",
            "mimetype": "text/x-python",
            "codemirror_mode": {
                "name": "ipython",
                "version": 3
            },
            "pygments_lexer": "ipython3",
            "nbconvert_exporter": "python",
            "file_extension": ".py"
        }
    },
    "nbformat": 4,
    "nbformat_minor": 1
}