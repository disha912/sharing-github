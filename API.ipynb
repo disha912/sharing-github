{
    "cells": [
        {
            "metadata": {},
            "cell_type": "markdown",
            "source": "<center>\n    <img src=\"https://s3-api.us-geo.objectstorage.softlayer.net/cf-courses-data/CognitiveClass/Logos/organization_logo/organization_logo.png\" width=\"300\" alt=\"cognitiveclass.ai logo\"  />\n</center>\n\n# Application Programming Interface\n\nEstimated time needed: **15** minutes\n\n## Objectives\n\nAfter completing this lab you will be able to:\n\n-   Create and Use APIs in Python\n"
        },
        {
            "metadata": {},
            "cell_type": "markdown",
            "source": "### Introduction\n\nAn API lets two pieces of software talk to each other. Just like a function,  you don\u2019t have to know how the API works only its inputs and outputs.  An essential type of API is a REST API that allows you to access resources via the internet. In this lab, we will review the Pandas Library  in the context of an API, we will also review a basic REST API  \n"
        },
        {
            "metadata": {},
            "cell_type": "markdown",
            "source": "## Table of Contents\n\n<div class=\"alert alert-block alert-info\" style=\"margin-top: 20px\">\n<li><a href=\"#ref0\">Pandas is an API</a></li>\n<li><a href=\"#ref1\">REST APIs Basics  </a></li>\n<li><a href=\"#ref2\">Quiz on Tuples</a></li>\n\n</div>\n\n<hr>\n"
        },
        {
            "metadata": {
                "jupyter": {
                    "outputs_hidden": false
                }
            },
            "cell_type": "code",
            "source": "!pip install nba_api",
            "execution_count": null,
            "outputs": []
        },
        {
            "metadata": {},
            "cell_type": "markdown",
            "source": "<h2 id=\"PandasAPI\">Pandas is an API </h2>\n"
        },
        {
            "metadata": {},
            "cell_type": "markdown",
            "source": "You will use this function in the lab:\n"
        },
        {
            "metadata": {
                "jupyter": {
                    "outputs_hidden": false
                }
            },
            "cell_type": "code",
            "source": "def one_dict(list_dict):\n    keys=list_dict[0].keys()\n    out_dict={key:[] for key in keys}\n    for dict_ in list_dict:\n        for key, value in dict_.items():\n            out_dict[key].append(value)\n    return out_dict    ",
            "execution_count": null,
            "outputs": []
        },
        {
            "metadata": {},
            "cell_type": "markdown",
            "source": "<h2 id=\"PandasAPI\">Pandas is an API </h2>\n"
        },
        {
            "metadata": {},
            "cell_type": "markdown",
            "source": "Pandas is actually set of software components , much of  which is not even written in Python.\n"
        },
        {
            "metadata": {
                "jupyter": {
                    "outputs_hidden": false
                }
            },
            "cell_type": "code",
            "source": "import pandas as pd\nimport matplotlib.pyplot as plt",
            "execution_count": null,
            "outputs": []
        },
        {
            "metadata": {},
            "cell_type": "markdown",
            "source": "You create a dictionary, this is just data.\n"
        },
        {
            "metadata": {
                "jupyter": {
                    "outputs_hidden": false
                }
            },
            "cell_type": "code",
            "source": "dict_={'a':[11,21,31],'b':[12,22,32]}",
            "execution_count": null,
            "outputs": []
        },
        {
            "metadata": {},
            "cell_type": "markdown",
            "source": "When you create a Pandas object with the Dataframe constructor in API lingo, this is an \"instance\". The data in the dictionary is passed along to the pandas API. You then use the dataframe to communicate with the API.\n"
        },
        {
            "metadata": {
                "jupyter": {
                    "outputs_hidden": false
                }
            },
            "cell_type": "code",
            "source": "df=pd.DataFrame(dict_)\ntype(df)",
            "execution_count": null,
            "outputs": []
        },
        {
            "metadata": {},
            "cell_type": "markdown",
            "source": "<img src = \"https://s3-api.us-geo.objectstorage.softlayer.net/cf-courses-data/CognitiveClass/PY0101EN/Chapter%206/images/pandas_api.png\" width = 800, align = \"center\" alt=\"logistic regression block diagram\" />\n"
        },
        {
            "metadata": {},
            "cell_type": "markdown",
            "source": "When you call the method head the dataframe communicates with the API displaying the first few rows of the dataframe.\n"
        },
        {
            "metadata": {
                "jupyter": {
                    "outputs_hidden": false
                }
            },
            "cell_type": "code",
            "source": "df.head()",
            "execution_count": null,
            "outputs": []
        },
        {
            "metadata": {},
            "cell_type": "markdown",
            "source": "When you call the method mean,the API will calculate the mean and return the value.\n"
        },
        {
            "metadata": {
                "jupyter": {
                    "outputs_hidden": false
                }
            },
            "cell_type": "code",
            "source": "df.mean()",
            "execution_count": null,
            "outputs": []
        },
        {
            "metadata": {},
            "cell_type": "markdown",
            "source": "<h2 id=\"ref1\">REST APIs</h2>\n"
        },
        {
            "metadata": {},
            "cell_type": "markdown",
            "source": "<p>Rest API\u2019s function by sending a <b>request</b>,  the request is communicated via HTTP message. The HTTP message usually contains a JSON file. This contains instructions for what operation we would like the service or <b>resource</b> to perform. In a similar manner, API returns a <b>response</b>, via an HTTP message, this response is usually contained within a JSON.</p>\n<p>In this lab, we will use the <a href=https://pypi.org/project/nba-api/>NBA API</a> to determine how well the Golden State Warriors performed against the Toronto Raptors. We will use the API do the determined number of points the Golden State Warriors won or lost by for each game. So if the value is three, the Golden State Warriors won by three points. Similarly it the  Golden State Warriors lost  by two points the result will be negative two. The API is relatively will handle a lot of the details such a Endpoints and Authentication </p>\n"
        },
        {
            "metadata": {},
            "cell_type": "markdown",
            "source": "In the nba api to make a request for a specific team, it's quite simple, we don't require a JSON all we require is an id. This information is stored locally in the API we import the module teams \n"
        },
        {
            "metadata": {},
            "cell_type": "code",
            "source": "from nba_api.stats.static import teams\nimport matplotlib.pyplot as plt",
            "execution_count": null,
            "outputs": []
        },
        {
            "metadata": {},
            "cell_type": "code",
            "source": "#https://pypi.org/project/nba-api/",
            "execution_count": null,
            "outputs": []
        },
        {
            "metadata": {},
            "cell_type": "markdown",
            "source": "The method <code>get_teams()</code> returns a list of dictionaries  the dictionary key id has a unique identifier for each team as a value \n"
        },
        {
            "metadata": {},
            "cell_type": "code",
            "source": "nba_teams = teams.get_teams()",
            "execution_count": null,
            "outputs": []
        },
        {
            "metadata": {},
            "cell_type": "markdown",
            "source": "The dictionary key id has a unique identifier for each team as a value, let's look at the first three elements of the list:\n"
        },
        {
            "metadata": {},
            "cell_type": "code",
            "source": "nba_teams[0:3]",
            "execution_count": null,
            "outputs": []
        },
        {
            "metadata": {},
            "cell_type": "markdown",
            "source": "To make things easier, we can convert the dictionary to a table. First, we use the function <code>one dict</code>, to create a dictionary. We use the common keys for each team as the keys,  the value is a list; each element of the list corresponds to the values for each team.\nWe then convert the dictionary to a dataframe, each row contains the information for a different team.\n"
        },
        {
            "metadata": {},
            "cell_type": "code",
            "source": "dict_nba_team=one_dict(nba_teams)\ndf_teams=pd.DataFrame(dict_nba_team)\ndf_teams.head()",
            "execution_count": null,
            "outputs": []
        },
        {
            "metadata": {},
            "cell_type": "markdown",
            "source": "Will use the team's nickname to find the unique id, we can see the row that contains the warriors by using the column nickname as follows:\n"
        },
        {
            "metadata": {
                "jupyter": {
                    "outputs_hidden": false
                }
            },
            "cell_type": "code",
            "source": "df_warriors=df_teams[df_teams['nickname']=='Warriors']\ndf_warriors",
            "execution_count": null,
            "outputs": []
        },
        {
            "metadata": {},
            "cell_type": "markdown",
            "source": "we can use the following line of code to access the first column of the dataframe:\n"
        },
        {
            "metadata": {
                "jupyter": {
                    "outputs_hidden": false
                }
            },
            "cell_type": "code",
            "source": "id_warriors=df_warriors[['id']].values[0][0]\n#we now have an integer that can be used   to request the Warriors information \nid_warriors",
            "execution_count": null,
            "outputs": []
        },
        {
            "metadata": {},
            "cell_type": "markdown",
            "source": "The function \"League Game Finder \" will make an API call, its in the module <code>stats.endpoints</code> \n"
        },
        {
            "metadata": {},
            "cell_type": "code",
            "source": "from nba_api.stats.endpoints import leaguegamefinder",
            "execution_count": null,
            "outputs": []
        },
        {
            "metadata": {},
            "cell_type": "markdown",
            "source": "The parameter <code>team_id_nullable</code> is the unique ID for the warriors. Under the hood, the NBA API is making a HTTP request.  \nThe information requested is provided and is transmitted via an HTTP response this is assigned to the object <code>gamefinder</code>.\n"
        },
        {
            "metadata": {
                "jupyter": {
                    "outputs_hidden": false
                }
            },
            "cell_type": "code",
            "source": "# Since https://stats.nba.com does not allow api calls from Cloud IPs and Skills Network Labs uses a Cloud IP.\n# The following code is comment out, you can run it on jupyter labs on your own computer.\n# gamefinder = leaguegamefinder.LeagueGameFinder(team_id_nullable=id_warriors)",
            "execution_count": null,
            "outputs": []
        },
        {
            "metadata": {},
            "cell_type": "markdown",
            "source": "we can see the json file by running the following line of code. \n"
        },
        {
            "metadata": {},
            "cell_type": "code",
            "source": "# Since https://stats.nba.com does not allow api calls from Cloud IPs and Skills Network Labs uses a Cloud IP.\n# The following code is comment out, you can run it on jupyter labs on your own computer.\n# gamefinder.get_json()",
            "execution_count": null,
            "outputs": []
        },
        {
            "metadata": {},
            "cell_type": "markdown",
            "source": "The game finder object has a method <code>get_data_frames()</code>, that returns a dataframe.  If we view the dataframe, we can see it contains information about all the games the Warriors played.  The <code>PLUS_MINUS</code> column contains information on the score, if the value is negative the Warriors lost by that many points, if the value is positive, the warriors one by that amount of points. The column <code>MATCHUP </code>had the team the Warriors were playing, GSW stands for Golden State Warriors and TOR means Toronto Raptors; <code>vs</code> signifies it was a home game and the <code>@ </code>symbol means an away game.\n"
        },
        {
            "metadata": {},
            "cell_type": "code",
            "source": "# Since https://stats.nba.com does not allow api calls from Cloud IPs and Skills Network Labs uses a Cloud IP.\n# The following code is comment out, you can run it on jupyter labs on your own computer.\n# games = gamefinder.get_data_frames()[0]\n# games.head()",
            "execution_count": null,
            "outputs": []
        },
        {
            "metadata": {},
            "cell_type": "markdown",
            "source": "you can download the dataframe from the API call for Golden State and run the rest like a video.\n"
        },
        {
            "metadata": {},
            "cell_type": "code",
            "source": "! wget https://s3-api.us-geo.objectstorage.softlayer.net/cf-courses-data/CognitiveClass/PY0101EN/Chapter%205/Labs/Golden_State.pkl",
            "execution_count": null,
            "outputs": []
        },
        {
            "metadata": {},
            "cell_type": "code",
            "source": "file_name = \"Golden_State.pkl\"\ngames = pd.read_pickle(file_name)\ngames.head()",
            "execution_count": null,
            "outputs": []
        },
        {
            "metadata": {},
            "cell_type": "markdown",
            "source": "We can create two dataframes, one  for the games that the Warriors faced the raptors at home and the second for away games.\n"
        },
        {
            "metadata": {
                "jupyter": {
                    "outputs_hidden": false
                }
            },
            "cell_type": "code",
            "source": "games_home=games [games ['MATCHUP']=='GSW vs. TOR']\ngames_away=games [games ['MATCHUP']=='GSW @ TOR']",
            "execution_count": null,
            "outputs": []
        },
        {
            "metadata": {},
            "cell_type": "markdown",
            "source": "We can calculate the mean for the column  <code>PLUS_MINUS</code> for the dataframes  <code>games_home</code> and <code> games_away</code>:\n"
        },
        {
            "metadata": {
                "jupyter": {
                    "outputs_hidden": false
                }
            },
            "cell_type": "code",
            "source": "games_home.mean()['PLUS_MINUS']",
            "execution_count": null,
            "outputs": []
        },
        {
            "metadata": {
                "jupyter": {
                    "outputs_hidden": false
                }
            },
            "cell_type": "code",
            "source": "games_away.mean()['PLUS_MINUS']",
            "execution_count": null,
            "outputs": []
        },
        {
            "metadata": {},
            "cell_type": "markdown",
            "source": "We can plot out the <code>PLUS MINUS</code> column for  for the dataframes  <code>games_home</code> and <code> games_away</code>.\nWe see the warriors played better at home.\n"
        },
        {
            "metadata": {
                "jupyter": {
                    "outputs_hidden": false
                }
            },
            "cell_type": "code",
            "source": "fig, ax = plt.subplots()\n\ngames_away.plot(x='GAME_DATE',y='PLUS_MINUS', ax=ax)\ngames_home.plot(x='GAME_DATE',y='PLUS_MINUS', ax=ax)\nax.legend([\"away\", \"home\"])\nplt.show()",
            "execution_count": null,
            "outputs": []
        },
        {
            "metadata": {},
            "cell_type": "markdown",
            "source": "<h2>Quiz</h2>\n"
        },
        {
            "metadata": {},
            "cell_type": "markdown",
            "source": "Calculate the mean for the column  <code>PTS</code> for the dataframes  <code>games_home</code> and <code> games_away</code>:\n"
        },
        {
            "metadata": {},
            "cell_type": "code",
            "source": "# Write your code below and press Shift+Enter to execute\n\n\n!pip install nba_api\n! wget https://s3-api.us-geo.objectstorage.softlayer.net/cf-courses-data/CognitiveClass/PY0101EN/Chapter%205/Labs/Golden_State.pkl\n\nimport pandas as pd\nfrom nba_api.stats.static import teams\ntm= teams.get_teams()\n\ndf_team = pd.DataFrame(tm)\ndf_warriors = df_team[df_team['nickname'] == 'Warriors']\nwarriors_id = df_warriors[['id']].values[0][0]\n\nflname = 'Golden_State.pkl'\nfilename = pd.read_pickle(flname)\nfilename_warriors = filename[filename['TEAM_ID'] == warriors_id ]\nfilename_warriors\nwarriors_home = filename_warriors[filename_warriors['MATCHUP']== 'GSW @ TOR']\nwarriors_away = filename_warriors[filename_warriors['MATCHUP']== 'GSW vs. TOR']\nwarriors_away\n",
            "execution_count": 18,
            "outputs": [
                {
                    "output_type": "stream",
                    "text": "Requirement already satisfied: nba_api in /opt/conda/envs/Python-3.7-main/lib/python3.7/site-packages (1.1.9)\nRequirement already satisfied: requests in /opt/conda/envs/Python-3.7-main/lib/python3.7/site-packages (from nba_api) (2.24.0)\nRequirement already satisfied: idna<3,>=2.5 in /opt/conda/envs/Python-3.7-main/lib/python3.7/site-packages (from requests->nba_api) (2.9)\nRequirement already satisfied: certifi>=2017.4.17 in /opt/conda/envs/Python-3.7-main/lib/python3.7/site-packages (from requests->nba_api) (2020.12.5)\nRequirement already satisfied: chardet<4,>=3.0.2 in /opt/conda/envs/Python-3.7-main/lib/python3.7/site-packages (from requests->nba_api) (3.0.4)\nRequirement already satisfied: urllib3!=1.25.0,!=1.25.1,<1.26,>=1.21.1 in /opt/conda/envs/Python-3.7-main/lib/python3.7/site-packages (from requests->nba_api) (1.25.9)\n--2021-01-12 18:48:16--  https://s3-api.us-geo.objectstorage.softlayer.net/cf-courses-data/CognitiveClass/PY0101EN/Chapter%205/Labs/Golden_State.pkl\nResolving s3-api.us-geo.objectstorage.softlayer.net (s3-api.us-geo.objectstorage.softlayer.net)... 67.228.254.196\nConnecting to s3-api.us-geo.objectstorage.softlayer.net (s3-api.us-geo.objectstorage.softlayer.net)|67.228.254.196|:443... connected.\nHTTP request sent, awaiting response... 200 OK\nLength: 811065 (792K) [application/octet-stream]\nSaving to: \u2018Golden_State.pkl.8\u2019\n\nGolden_State.pkl.8  100%[===================>] 792.06K  --.-KB/s    in 0.02s   \n\n2021-01-12 18:48:16 (45.3 MB/s) - \u2018Golden_State.pkl.8\u2019 saved [811065/811065]\n\n",
                    "name": "stdout"
                },
                {
                    "output_type": "execute_result",
                    "execution_count": 18,
                    "data": {
                        "text/plain": "     SEASON_ID     TEAM_ID TEAM_ABBREVIATION              TEAM_NAME  \\\n3        22019  1610612744               GSW  Golden State Warriors   \n8        42018  1610612744               GSW  Golden State Warriors   \n10       42018  1610612744               GSW  Golden State Warriors   \n11       42018  1610612744               GSW  Golden State Warriors   \n83       22018  1610612744               GSW  Golden State Warriors   \n223      22017  1610612744               GSW  Golden State Warriors   \n304      22016  1610612744               GSW  Golden State Warriors   \n444      22015  1610612744               GSW  Golden State Warriors   \n462      12015  1610612744               GSW  Golden State Warriors   \n541      22014  1610612744               GSW  Golden State Warriors   \n655      22013  1610612744               GSW  Golden State Warriors   \n721      22012  1610612744               GSW  Golden State Warriors   \n872      22010  1610612744               GSW  Golden State Warriors   \n975      22009  1610612744               GSW  Golden State Warriors   \n1102     22008  1610612744               GSW  Golden State Warriors   \n1166     22007  1610612744               GSW  Golden State Warriors   \n1325     22006  1610612744               GSW  Golden State Warriors   \n1407     22005  1610612744               GSW  Golden State Warriors   \n1482     22004  1610612744               GSW  Golden State Warriors   \n1547     22003  1610612744               GSW  Golden State Warriors   \n1650     22002  1610612744               GSW  Golden State Warriors   \n1751     22001  1610612744               GSW  Golden State Warriors   \n1822     22000  1610612744               GSW  Golden State Warriors   \n1912     21999  1610612744               GSW  Golden State Warriors   \n1992     21997  1610612744               GSW  Golden State Warriors   \n2074     21996  1610612744               GSW  Golden State Warriors   \n\n         GAME_ID   GAME_DATE      MATCHUP WL  MIN  PTS  ...  FT_PCT  OREB  \\\n3     1521900020  2019-07-07  GSW vs. TOR  W  201   80  ...   0.923   6.0   \n8     0041800406  2019-06-13  GSW vs. TOR  L  240  110  ...   0.700  11.0   \n10    0041800404  2019-06-07  GSW vs. TOR  L  241   92  ...   0.667   8.0   \n11    0041800403  2019-06-05  GSW vs. TOR  L  241  109  ...   0.833  13.0   \n83    0021800415  2018-12-12  GSW vs. TOR  L  239   93  ...   0.692   5.0   \n223   0021700063  2017-10-25  GSW vs. TOR  W  241  117  ...   0.864   6.0   \n304   0021600485  2016-12-28  GSW vs. TOR  W  240  121  ...   0.833   9.0   \n444   0021500164  2015-11-17  GSW vs. TOR  W  239  115  ...   0.667   9.0   \n462   0011500009  2015-10-05  GSW vs. TOR  W  240   95  ...   0.750   4.0   \n541   0021400493  2015-01-02  GSW vs. TOR  W  240  126  ...   0.800  14.0   \n655   0021300268  2013-12-03  GSW vs. TOR  W  239  112  ...   0.800   9.0   \n721   0021200895  2013-03-04  GSW vs. TOR  W  240  125  ...   0.821   6.0   \n872   0021001079  2011-03-25  GSW vs. TOR  W  239  138  ...   0.813   7.0   \n975   0020900982  2010-03-13  GSW vs. TOR  W  239  124  ...   0.818  18.0   \n1102  0020800457  2008-12-29  GSW vs. TOR  W  242  117  ...   0.879   6.0   \n1166  0020700962  2008-03-12  GSW vs. TOR  W  243  117  ...   0.778  11.0   \n1325  0020600107  2006-11-14  GSW vs. TOR  W  240  110  ...   0.652  14.0   \n1407  0020500189  2005-11-26  GSW vs. TOR  W  240  117  ...   0.750  10.0   \n1482  0020400416  2004-12-29  GSW vs. TOR  W  240  111  ...   0.857   9.0   \n1547  0020300735  2004-02-08  GSW vs. TOR  L  265   81  ...   0.621   8.0   \n1650  0020200416  2002-12-27  GSW vs. TOR  W  239  101  ...   0.939  19.0   \n1751  0020100115  2001-11-14  GSW vs. TOR  L  240   82  ...   0.667  20.0   \n1822  0020000281  2000-12-08  GSW vs. TOR  L  239   92  ...   0.630  18.0   \n1912  0029900193  1999-11-27  GSW vs. TOR  L  240   88  ...   0.706  20.0   \n1992  0029700925  1998-03-15  GSW vs. TOR  L  264   98  ...   0.583  26.0   \n2074  0029600927  1997-03-15  GSW vs. TOR  W  241  106  ...   0.708  16.0   \n\n      DREB   REB  AST   STL  BLK   TOV  PF  PLUS_MINUS  \n3     37.0  43.0   18   8.0    3  20.0  25        10.0  \n8     31.0  42.0   28   9.0    6  16.0  23        -4.0  \n10    34.0  42.0   26   6.0    6  17.0  23       -13.0  \n11    28.0  41.0   25   8.0    3  14.0  21       -14.0  \n83    35.0  40.0   28   5.0   11  19.0  18       -20.0  \n223   31.0  37.0   32  10.0    7  17.0  15         5.0  \n304   42.0  51.0   33   4.0    9  20.0  16        10.0  \n444   25.0  34.0   31  10.0    6  20.0  29         5.0  \n462   33.0  37.0   29   8.0    7  17.0  22         8.0  \n541   31.0  45.0   35   8.0    8   9.0  18        21.0  \n655   27.0  36.0   27  11.0    2  12.0  16         9.0  \n721   32.0  38.0   33   3.0    4  14.0  27         7.0  \n872   33.0  40.0   33  12.0    5  10.0  22        38.0  \n975   24.0  42.0   22  11.0    1  11.0  16        12.0  \n1102  31.0  37.0   26   8.0    9  12.0  23         6.0  \n1166  29.0  40.0   32   7.0    4  12.0  22        11.0  \n1325  28.0  42.0   27   7.0    5  11.0  25        11.0  \n1407  35.0  45.0   37   5.0    4  16.0  20        26.0  \n1482  31.0  40.0   24   7.0    4  17.0  22         6.0  \n1547  41.0  49.0   15   5.0    5  18.0  17        -3.0  \n1650  36.0  55.0   16   5.0    4  19.0  23         5.0  \n1751  39.0  59.0   17   6.0   10  17.0  20        -7.0  \n1822  18.0  36.0   23   6.0    4  20.0  25       -16.0  \n1912  34.0  54.0   22   4.0    5  19.0  16       -18.0  \n1992  42.0  68.0   20   7.0    7  16.0  22        -2.0  \n2074  30.0  46.0   30   5.0    2  13.0  17         4.0  \n\n[26 rows x 28 columns]",
                        "text/html": "<div>\n<style scoped>\n    .dataframe tbody tr th:only-of-type {\n        vertical-align: middle;\n    }\n\n    .dataframe tbody tr th {\n        vertical-align: top;\n    }\n\n    .dataframe thead th {\n        text-align: right;\n    }\n</style>\n<table border=\"1\" class=\"dataframe\">\n  <thead>\n    <tr style=\"text-align: right;\">\n      <th></th>\n      <th>SEASON_ID</th>\n      <th>TEAM_ID</th>\n      <th>TEAM_ABBREVIATION</th>\n      <th>TEAM_NAME</th>\n      <th>GAME_ID</th>\n      <th>GAME_DATE</th>\n      <th>MATCHUP</th>\n      <th>WL</th>\n      <th>MIN</th>\n      <th>PTS</th>\n      <th>...</th>\n      <th>FT_PCT</th>\n      <th>OREB</th>\n      <th>DREB</th>\n      <th>REB</th>\n      <th>AST</th>\n      <th>STL</th>\n      <th>BLK</th>\n      <th>TOV</th>\n      <th>PF</th>\n      <th>PLUS_MINUS</th>\n    </tr>\n  </thead>\n  <tbody>\n    <tr>\n      <th>3</th>\n      <td>22019</td>\n      <td>1610612744</td>\n      <td>GSW</td>\n      <td>Golden State Warriors</td>\n      <td>1521900020</td>\n      <td>2019-07-07</td>\n      <td>GSW vs. TOR</td>\n      <td>W</td>\n      <td>201</td>\n      <td>80</td>\n      <td>...</td>\n      <td>0.923</td>\n      <td>6.0</td>\n      <td>37.0</td>\n      <td>43.0</td>\n      <td>18</td>\n      <td>8.0</td>\n      <td>3</td>\n      <td>20.0</td>\n      <td>25</td>\n      <td>10.0</td>\n    </tr>\n    <tr>\n      <th>8</th>\n      <td>42018</td>\n      <td>1610612744</td>\n      <td>GSW</td>\n      <td>Golden State Warriors</td>\n      <td>0041800406</td>\n      <td>2019-06-13</td>\n      <td>GSW vs. TOR</td>\n      <td>L</td>\n      <td>240</td>\n      <td>110</td>\n      <td>...</td>\n      <td>0.700</td>\n      <td>11.0</td>\n      <td>31.0</td>\n      <td>42.0</td>\n      <td>28</td>\n      <td>9.0</td>\n      <td>6</td>\n      <td>16.0</td>\n      <td>23</td>\n      <td>-4.0</td>\n    </tr>\n    <tr>\n      <th>10</th>\n      <td>42018</td>\n      <td>1610612744</td>\n      <td>GSW</td>\n      <td>Golden State Warriors</td>\n      <td>0041800404</td>\n      <td>2019-06-07</td>\n      <td>GSW vs. TOR</td>\n      <td>L</td>\n      <td>241</td>\n      <td>92</td>\n      <td>...</td>\n      <td>0.667</td>\n      <td>8.0</td>\n      <td>34.0</td>\n      <td>42.0</td>\n      <td>26</td>\n      <td>6.0</td>\n      <td>6</td>\n      <td>17.0</td>\n      <td>23</td>\n      <td>-13.0</td>\n    </tr>\n    <tr>\n      <th>11</th>\n      <td>42018</td>\n      <td>1610612744</td>\n      <td>GSW</td>\n      <td>Golden State Warriors</td>\n      <td>0041800403</td>\n      <td>2019-06-05</td>\n      <td>GSW vs. TOR</td>\n      <td>L</td>\n      <td>241</td>\n      <td>109</td>\n      <td>...</td>\n      <td>0.833</td>\n      <td>13.0</td>\n      <td>28.0</td>\n      <td>41.0</td>\n      <td>25</td>\n      <td>8.0</td>\n      <td>3</td>\n      <td>14.0</td>\n      <td>21</td>\n      <td>-14.0</td>\n    </tr>\n    <tr>\n      <th>83</th>\n      <td>22018</td>\n      <td>1610612744</td>\n      <td>GSW</td>\n      <td>Golden State Warriors</td>\n      <td>0021800415</td>\n      <td>2018-12-12</td>\n      <td>GSW vs. TOR</td>\n      <td>L</td>\n      <td>239</td>\n      <td>93</td>\n      <td>...</td>\n      <td>0.692</td>\n      <td>5.0</td>\n      <td>35.0</td>\n      <td>40.0</td>\n      <td>28</td>\n      <td>5.0</td>\n      <td>11</td>\n      <td>19.0</td>\n      <td>18</td>\n      <td>-20.0</td>\n    </tr>\n    <tr>\n      <th>223</th>\n      <td>22017</td>\n      <td>1610612744</td>\n      <td>GSW</td>\n      <td>Golden State Warriors</td>\n      <td>0021700063</td>\n      <td>2017-10-25</td>\n      <td>GSW vs. TOR</td>\n      <td>W</td>\n      <td>241</td>\n      <td>117</td>\n      <td>...</td>\n      <td>0.864</td>\n      <td>6.0</td>\n      <td>31.0</td>\n      <td>37.0</td>\n      <td>32</td>\n      <td>10.0</td>\n      <td>7</td>\n      <td>17.0</td>\n      <td>15</td>\n      <td>5.0</td>\n    </tr>\n    <tr>\n      <th>304</th>\n      <td>22016</td>\n      <td>1610612744</td>\n      <td>GSW</td>\n      <td>Golden State Warriors</td>\n      <td>0021600485</td>\n      <td>2016-12-28</td>\n      <td>GSW vs. TOR</td>\n      <td>W</td>\n      <td>240</td>\n      <td>121</td>\n      <td>...</td>\n      <td>0.833</td>\n      <td>9.0</td>\n      <td>42.0</td>\n      <td>51.0</td>\n      <td>33</td>\n      <td>4.0</td>\n      <td>9</td>\n      <td>20.0</td>\n      <td>16</td>\n      <td>10.0</td>\n    </tr>\n    <tr>\n      <th>444</th>\n      <td>22015</td>\n      <td>1610612744</td>\n      <td>GSW</td>\n      <td>Golden State Warriors</td>\n      <td>0021500164</td>\n      <td>2015-11-17</td>\n      <td>GSW vs. TOR</td>\n      <td>W</td>\n      <td>239</td>\n      <td>115</td>\n      <td>...</td>\n      <td>0.667</td>\n      <td>9.0</td>\n      <td>25.0</td>\n      <td>34.0</td>\n      <td>31</td>\n      <td>10.0</td>\n      <td>6</td>\n      <td>20.0</td>\n      <td>29</td>\n      <td>5.0</td>\n    </tr>\n    <tr>\n      <th>462</th>\n      <td>12015</td>\n      <td>1610612744</td>\n      <td>GSW</td>\n      <td>Golden State Warriors</td>\n      <td>0011500009</td>\n      <td>2015-10-05</td>\n      <td>GSW vs. TOR</td>\n      <td>W</td>\n      <td>240</td>\n      <td>95</td>\n      <td>...</td>\n      <td>0.750</td>\n      <td>4.0</td>\n      <td>33.0</td>\n      <td>37.0</td>\n      <td>29</td>\n      <td>8.0</td>\n      <td>7</td>\n      <td>17.0</td>\n      <td>22</td>\n      <td>8.0</td>\n    </tr>\n    <tr>\n      <th>541</th>\n      <td>22014</td>\n      <td>1610612744</td>\n      <td>GSW</td>\n      <td>Golden State Warriors</td>\n      <td>0021400493</td>\n      <td>2015-01-02</td>\n      <td>GSW vs. TOR</td>\n      <td>W</td>\n      <td>240</td>\n      <td>126</td>\n      <td>...</td>\n      <td>0.800</td>\n      <td>14.0</td>\n      <td>31.0</td>\n      <td>45.0</td>\n      <td>35</td>\n      <td>8.0</td>\n      <td>8</td>\n      <td>9.0</td>\n      <td>18</td>\n      <td>21.0</td>\n    </tr>\n    <tr>\n      <th>655</th>\n      <td>22013</td>\n      <td>1610612744</td>\n      <td>GSW</td>\n      <td>Golden State Warriors</td>\n      <td>0021300268</td>\n      <td>2013-12-03</td>\n      <td>GSW vs. TOR</td>\n      <td>W</td>\n      <td>239</td>\n      <td>112</td>\n      <td>...</td>\n      <td>0.800</td>\n      <td>9.0</td>\n      <td>27.0</td>\n      <td>36.0</td>\n      <td>27</td>\n      <td>11.0</td>\n      <td>2</td>\n      <td>12.0</td>\n      <td>16</td>\n      <td>9.0</td>\n    </tr>\n    <tr>\n      <th>721</th>\n      <td>22012</td>\n      <td>1610612744</td>\n      <td>GSW</td>\n      <td>Golden State Warriors</td>\n      <td>0021200895</td>\n      <td>2013-03-04</td>\n      <td>GSW vs. TOR</td>\n      <td>W</td>\n      <td>240</td>\n      <td>125</td>\n      <td>...</td>\n      <td>0.821</td>\n      <td>6.0</td>\n      <td>32.0</td>\n      <td>38.0</td>\n      <td>33</td>\n      <td>3.0</td>\n      <td>4</td>\n      <td>14.0</td>\n      <td>27</td>\n      <td>7.0</td>\n    </tr>\n    <tr>\n      <th>872</th>\n      <td>22010</td>\n      <td>1610612744</td>\n      <td>GSW</td>\n      <td>Golden State Warriors</td>\n      <td>0021001079</td>\n      <td>2011-03-25</td>\n      <td>GSW vs. TOR</td>\n      <td>W</td>\n      <td>239</td>\n      <td>138</td>\n      <td>...</td>\n      <td>0.813</td>\n      <td>7.0</td>\n      <td>33.0</td>\n      <td>40.0</td>\n      <td>33</td>\n      <td>12.0</td>\n      <td>5</td>\n      <td>10.0</td>\n      <td>22</td>\n      <td>38.0</td>\n    </tr>\n    <tr>\n      <th>975</th>\n      <td>22009</td>\n      <td>1610612744</td>\n      <td>GSW</td>\n      <td>Golden State Warriors</td>\n      <td>0020900982</td>\n      <td>2010-03-13</td>\n      <td>GSW vs. TOR</td>\n      <td>W</td>\n      <td>239</td>\n      <td>124</td>\n      <td>...</td>\n      <td>0.818</td>\n      <td>18.0</td>\n      <td>24.0</td>\n      <td>42.0</td>\n      <td>22</td>\n      <td>11.0</td>\n      <td>1</td>\n      <td>11.0</td>\n      <td>16</td>\n      <td>12.0</td>\n    </tr>\n    <tr>\n      <th>1102</th>\n      <td>22008</td>\n      <td>1610612744</td>\n      <td>GSW</td>\n      <td>Golden State Warriors</td>\n      <td>0020800457</td>\n      <td>2008-12-29</td>\n      <td>GSW vs. TOR</td>\n      <td>W</td>\n      <td>242</td>\n      <td>117</td>\n      <td>...</td>\n      <td>0.879</td>\n      <td>6.0</td>\n      <td>31.0</td>\n      <td>37.0</td>\n      <td>26</td>\n      <td>8.0</td>\n      <td>9</td>\n      <td>12.0</td>\n      <td>23</td>\n      <td>6.0</td>\n    </tr>\n    <tr>\n      <th>1166</th>\n      <td>22007</td>\n      <td>1610612744</td>\n      <td>GSW</td>\n      <td>Golden State Warriors</td>\n      <td>0020700962</td>\n      <td>2008-03-12</td>\n      <td>GSW vs. TOR</td>\n      <td>W</td>\n      <td>243</td>\n      <td>117</td>\n      <td>...</td>\n      <td>0.778</td>\n      <td>11.0</td>\n      <td>29.0</td>\n      <td>40.0</td>\n      <td>32</td>\n      <td>7.0</td>\n      <td>4</td>\n      <td>12.0</td>\n      <td>22</td>\n      <td>11.0</td>\n    </tr>\n    <tr>\n      <th>1325</th>\n      <td>22006</td>\n      <td>1610612744</td>\n      <td>GSW</td>\n      <td>Golden State Warriors</td>\n      <td>0020600107</td>\n      <td>2006-11-14</td>\n      <td>GSW vs. TOR</td>\n      <td>W</td>\n      <td>240</td>\n      <td>110</td>\n      <td>...</td>\n      <td>0.652</td>\n      <td>14.0</td>\n      <td>28.0</td>\n      <td>42.0</td>\n      <td>27</td>\n      <td>7.0</td>\n      <td>5</td>\n      <td>11.0</td>\n      <td>25</td>\n      <td>11.0</td>\n    </tr>\n    <tr>\n      <th>1407</th>\n      <td>22005</td>\n      <td>1610612744</td>\n      <td>GSW</td>\n      <td>Golden State Warriors</td>\n      <td>0020500189</td>\n      <td>2005-11-26</td>\n      <td>GSW vs. TOR</td>\n      <td>W</td>\n      <td>240</td>\n      <td>117</td>\n      <td>...</td>\n      <td>0.750</td>\n      <td>10.0</td>\n      <td>35.0</td>\n      <td>45.0</td>\n      <td>37</td>\n      <td>5.0</td>\n      <td>4</td>\n      <td>16.0</td>\n      <td>20</td>\n      <td>26.0</td>\n    </tr>\n    <tr>\n      <th>1482</th>\n      <td>22004</td>\n      <td>1610612744</td>\n      <td>GSW</td>\n      <td>Golden State Warriors</td>\n      <td>0020400416</td>\n      <td>2004-12-29</td>\n      <td>GSW vs. TOR</td>\n      <td>W</td>\n      <td>240</td>\n      <td>111</td>\n      <td>...</td>\n      <td>0.857</td>\n      <td>9.0</td>\n      <td>31.0</td>\n      <td>40.0</td>\n      <td>24</td>\n      <td>7.0</td>\n      <td>4</td>\n      <td>17.0</td>\n      <td>22</td>\n      <td>6.0</td>\n    </tr>\n    <tr>\n      <th>1547</th>\n      <td>22003</td>\n      <td>1610612744</td>\n      <td>GSW</td>\n      <td>Golden State Warriors</td>\n      <td>0020300735</td>\n      <td>2004-02-08</td>\n      <td>GSW vs. TOR</td>\n      <td>L</td>\n      <td>265</td>\n      <td>81</td>\n      <td>...</td>\n      <td>0.621</td>\n      <td>8.0</td>\n      <td>41.0</td>\n      <td>49.0</td>\n      <td>15</td>\n      <td>5.0</td>\n      <td>5</td>\n      <td>18.0</td>\n      <td>17</td>\n      <td>-3.0</td>\n    </tr>\n    <tr>\n      <th>1650</th>\n      <td>22002</td>\n      <td>1610612744</td>\n      <td>GSW</td>\n      <td>Golden State Warriors</td>\n      <td>0020200416</td>\n      <td>2002-12-27</td>\n      <td>GSW vs. TOR</td>\n      <td>W</td>\n      <td>239</td>\n      <td>101</td>\n      <td>...</td>\n      <td>0.939</td>\n      <td>19.0</td>\n      <td>36.0</td>\n      <td>55.0</td>\n      <td>16</td>\n      <td>5.0</td>\n      <td>4</td>\n      <td>19.0</td>\n      <td>23</td>\n      <td>5.0</td>\n    </tr>\n    <tr>\n      <th>1751</th>\n      <td>22001</td>\n      <td>1610612744</td>\n      <td>GSW</td>\n      <td>Golden State Warriors</td>\n      <td>0020100115</td>\n      <td>2001-11-14</td>\n      <td>GSW vs. TOR</td>\n      <td>L</td>\n      <td>240</td>\n      <td>82</td>\n      <td>...</td>\n      <td>0.667</td>\n      <td>20.0</td>\n      <td>39.0</td>\n      <td>59.0</td>\n      <td>17</td>\n      <td>6.0</td>\n      <td>10</td>\n      <td>17.0</td>\n      <td>20</td>\n      <td>-7.0</td>\n    </tr>\n    <tr>\n      <th>1822</th>\n      <td>22000</td>\n      <td>1610612744</td>\n      <td>GSW</td>\n      <td>Golden State Warriors</td>\n      <td>0020000281</td>\n      <td>2000-12-08</td>\n      <td>GSW vs. TOR</td>\n      <td>L</td>\n      <td>239</td>\n      <td>92</td>\n      <td>...</td>\n      <td>0.630</td>\n      <td>18.0</td>\n      <td>18.0</td>\n      <td>36.0</td>\n      <td>23</td>\n      <td>6.0</td>\n      <td>4</td>\n      <td>20.0</td>\n      <td>25</td>\n      <td>-16.0</td>\n    </tr>\n    <tr>\n      <th>1912</th>\n      <td>21999</td>\n      <td>1610612744</td>\n      <td>GSW</td>\n      <td>Golden State Warriors</td>\n      <td>0029900193</td>\n      <td>1999-11-27</td>\n      <td>GSW vs. TOR</td>\n      <td>L</td>\n      <td>240</td>\n      <td>88</td>\n      <td>...</td>\n      <td>0.706</td>\n      <td>20.0</td>\n      <td>34.0</td>\n      <td>54.0</td>\n      <td>22</td>\n      <td>4.0</td>\n      <td>5</td>\n      <td>19.0</td>\n      <td>16</td>\n      <td>-18.0</td>\n    </tr>\n    <tr>\n      <th>1992</th>\n      <td>21997</td>\n      <td>1610612744</td>\n      <td>GSW</td>\n      <td>Golden State Warriors</td>\n      <td>0029700925</td>\n      <td>1998-03-15</td>\n      <td>GSW vs. TOR</td>\n      <td>L</td>\n      <td>264</td>\n      <td>98</td>\n      <td>...</td>\n      <td>0.583</td>\n      <td>26.0</td>\n      <td>42.0</td>\n      <td>68.0</td>\n      <td>20</td>\n      <td>7.0</td>\n      <td>7</td>\n      <td>16.0</td>\n      <td>22</td>\n      <td>-2.0</td>\n    </tr>\n    <tr>\n      <th>2074</th>\n      <td>21996</td>\n      <td>1610612744</td>\n      <td>GSW</td>\n      <td>Golden State Warriors</td>\n      <td>0029600927</td>\n      <td>1997-03-15</td>\n      <td>GSW vs. TOR</td>\n      <td>W</td>\n      <td>241</td>\n      <td>106</td>\n      <td>...</td>\n      <td>0.708</td>\n      <td>16.0</td>\n      <td>30.0</td>\n      <td>46.0</td>\n      <td>30</td>\n      <td>5.0</td>\n      <td>2</td>\n      <td>13.0</td>\n      <td>17</td>\n      <td>4.0</td>\n    </tr>\n  </tbody>\n</table>\n<p>26 rows \u00d7 28 columns</p>\n</div>"
                    },
                    "metadata": {}
                }
            ]
        },
        {
            "metadata": {},
            "cell_type": "markdown",
            "source": "<details><summary>Click here for the solution</summary>\n\n```python\ngames_home.mean()['PTS']\n\ngames_away.mean()['PLUS_MINUS']\n\n```\n\n</details>\n"
        },
        {
            "metadata": {},
            "cell_type": "markdown",
            "source": " <a href=\"https://cloud.ibm.com/catalog/services/watson-studio\"><img src = \"https://ibm.box.com/shared/static/irypdxea2q4th88zu1o1tsd06dya10go.png\" width = 750, align = \"center\"></a>\n"
        },
        {
            "metadata": {},
            "cell_type": "markdown",
            "source": "## Authors:\n\n [Joseph Santarcangelo](https://www.linkedin.com/in/joseph-s-50398b136?cm_mmc=Email_Newsletter-_-Developer_Ed%2BTech-_-WW_WW-_-SkillsNetwork-Courses-IBMDeveloperSkillsNetwork-PY0101EN-SkillsNetwork-19487395&cm_mmca1=000026UJ&cm_mmca2=10006555&cm_mmca3=M12345678&cvosrc=email.Newsletter.M12345678&cvo_campaign=000026UJ&cm_mmc=Email_Newsletter-_-Developer_Ed%2BTech-_-WW_WW-_-SkillsNetwork-Courses-IBMDeveloperSkillsNetwork-PY0101EN-SkillsNetwork-19487395&cm_mmca1=000026UJ&cm_mmca2=10006555&cm_mmca3=M12345678&cvosrc=email.Newsletter.M12345678&cvo_campaign=000026UJ) \n\nJoseph Santarcangelo has a PhD in Electrical Engineering, his research focused on using machine learning, signal processing, and computer vision to determine how videos impact human cognition. Joseph has been working for IBM since he completed his PhD.\n\n## Change Log\n\n| Date (YYYY-MM-DD) | Version | Changed By    | Change Description                 |\n| ----------------- | ------- | ------------- | ---------------------------------- |\n| 2020-09-09        | 2.1     | Malika Singla | Spell Check                        |\n| 2020-08-26        | 2.0     | Lavanya       | Moved lab to course repo in GitLab |\n|                   |         |               |                                    |\n|                   |         |               |                                    |\n\n<hr/>\n\n## <h3 align=\"center\"> \u00a9 IBM Corporation 2020. All rights reserved. <h3/>\n"
        }
    ],
    "metadata": {
        "kernelspec": {
            "name": "python3",
            "display_name": "Python 3.7",
            "language": "python"
        },
        "language_info": {
            "name": "python",
            "version": "3.7.9",
            "mimetype": "text/x-python",
            "codemirror_mode": {
                "name": "ipython",
                "version": 3
            },
            "pygments_lexer": "ipython3",
            "nbconvert_exporter": "python",
            "file_extension": ".py"
        }
    },
    "nbformat": 4,
    "nbformat_minor": 4
}