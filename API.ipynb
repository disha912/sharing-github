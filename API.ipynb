{
    "cells": [
        {
            "metadata": {},
            "cell_type": "markdown",
            "source": "<center>\n    <img src=\"https://s3-api.us-geo.objectstorage.softlayer.net/cf-courses-data/CognitiveClass/Logos/organization_logo/organization_logo.png\" width=\"300\" alt=\"cognitiveclass.ai logo\"  />\n</center>\n\n# Application Programming Interface\n\nEstimated time needed: **15** minutes\n\n## Objectives\n\nAfter completing this lab you will be able to:\n\n-   Create and Use APIs in Python\n"
        },
        {
            "metadata": {},
            "cell_type": "markdown",
            "source": "### Introduction\n\nAn API lets two pieces of software talk to each other. Just like a function,  you don\u2019t have to know how the API works only its inputs and outputs.  An essential type of API is a REST API that allows you to access resources via the internet. In this lab, we will review the Pandas Library  in the context of an API, we will also review a basic REST API  \n"
        },
        {
            "metadata": {},
            "cell_type": "markdown",
            "source": "## Table of Contents\n\n<div class=\"alert alert-block alert-info\" style=\"margin-top: 20px\">\n<li><a href=\"#ref0\">Pandas is an API</a></li>\n<li><a href=\"#ref1\">REST APIs Basics  </a></li>\n<li><a href=\"#ref2\">Quiz on Tuples</a></li>\n\n</div>\n\n<hr>\n"
        },
        {
            "metadata": {
                "jupyter": {
                    "outputs_hidden": false
                }
            },
            "cell_type": "code",
            "source": "!pip install nba_api",
            "execution_count": null,
            "outputs": []
        },
        {
            "metadata": {},
            "cell_type": "markdown",
            "source": "<h2 id=\"PandasAPI\">Pandas is an API </h2>\n"
        },
        {
            "metadata": {},
            "cell_type": "markdown",
            "source": "You will use this function in the lab:\n"
        },
        {
            "metadata": {
                "jupyter": {
                    "outputs_hidden": false
                }
            },
            "cell_type": "code",
            "source": "def one_dict(list_dict):\n    keys=list_dict[0].keys()\n    out_dict={key:[] for key in keys}\n    for dict_ in list_dict:\n        for key, value in dict_.items():\n            out_dict[key].append(value)\n    return out_dict    ",
            "execution_count": null,
            "outputs": []
        },
        {
            "metadata": {},
            "cell_type": "markdown",
            "source": "<h2 id=\"PandasAPI\">Pandas is an API </h2>\n"
        },
        {
            "metadata": {},
            "cell_type": "markdown",
            "source": "Pandas is actually set of software components , much of  which is not even written in Python.\n"
        },
        {
            "metadata": {
                "jupyter": {
                    "outputs_hidden": false
                }
            },
            "cell_type": "code",
            "source": "import pandas as pd\nimport matplotlib.pyplot as plt",
            "execution_count": null,
            "outputs": []
        },
        {
            "metadata": {},
            "cell_type": "markdown",
            "source": "You create a dictionary, this is just data.\n"
        },
        {
            "metadata": {
                "jupyter": {
                    "outputs_hidden": false
                }
            },
            "cell_type": "code",
            "source": "dict_={'a':[11,21,31],'b':[12,22,32]}",
            "execution_count": null,
            "outputs": []
        },
        {
            "metadata": {},
            "cell_type": "markdown",
            "source": "When you create a Pandas object with the Dataframe constructor in API lingo, this is an \"instance\". The data in the dictionary is passed along to the pandas API. You then use the dataframe to communicate with the API.\n"
        },
        {
            "metadata": {
                "jupyter": {
                    "outputs_hidden": false
                }
            },
            "cell_type": "code",
            "source": "df=pd.DataFrame(dict_)\ntype(df)",
            "execution_count": null,
            "outputs": []
        },
        {
            "metadata": {},
            "cell_type": "markdown",
            "source": "<img src = \"https://s3-api.us-geo.objectstorage.softlayer.net/cf-courses-data/CognitiveClass/PY0101EN/Chapter%206/images/pandas_api.png\" width = 800, align = \"center\" alt=\"logistic regression block diagram\" />\n"
        },
        {
            "metadata": {},
            "cell_type": "markdown",
            "source": "When you call the method head the dataframe communicates with the API displaying the first few rows of the dataframe.\n"
        },
        {
            "metadata": {
                "jupyter": {
                    "outputs_hidden": false
                }
            },
            "cell_type": "code",
            "source": "df.head()",
            "execution_count": null,
            "outputs": []
        },
        {
            "metadata": {},
            "cell_type": "markdown",
            "source": "When you call the method mean,the API will calculate the mean and return the value.\n"
        },
        {
            "metadata": {
                "jupyter": {
                    "outputs_hidden": false
                }
            },
            "cell_type": "code",
            "source": "df.mean()",
            "execution_count": null,
            "outputs": []
        },
        {
            "metadata": {},
            "cell_type": "markdown",
            "source": "<h2 id=\"ref1\">REST APIs</h2>\n"
        },
        {
            "metadata": {},
            "cell_type": "markdown",
            "source": "<p>Rest API\u2019s function by sending a <b>request</b>,  the request is communicated via HTTP message. The HTTP message usually contains a JSON file. This contains instructions for what operation we would like the service or <b>resource</b> to perform. In a similar manner, API returns a <b>response</b>, via an HTTP message, this response is usually contained within a JSON.</p>\n<p>In this lab, we will use the <a href=https://pypi.org/project/nba-api/>NBA API</a> to determine how well the Golden State Warriors performed against the Toronto Raptors. We will use the API do the determined number of points the Golden State Warriors won or lost by for each game. So if the value is three, the Golden State Warriors won by three points. Similarly it the  Golden State Warriors lost  by two points the result will be negative two. The API is relatively will handle a lot of the details such a Endpoints and Authentication </p>\n"
        },
        {
            "metadata": {},
            "cell_type": "markdown",
            "source": "In the nba api to make a request for a specific team, it's quite simple, we don't require a JSON all we require is an id. This information is stored locally in the API we import the module teams \n"
        },
        {
            "metadata": {},
            "cell_type": "code",
            "source": "from nba_api.stats.static import teams\nimport matplotlib.pyplot as plt",
            "execution_count": null,
            "outputs": []
        },
        {
            "metadata": {},
            "cell_type": "code",
            "source": "#https://pypi.org/project/nba-api/",
            "execution_count": null,
            "outputs": []
        },
        {
            "metadata": {},
            "cell_type": "markdown",
            "source": "The method <code>get_teams()</code> returns a list of dictionaries  the dictionary key id has a unique identifier for each team as a value \n"
        },
        {
            "metadata": {},
            "cell_type": "code",
            "source": "nba_teams = teams.get_teams()",
            "execution_count": null,
            "outputs": []
        },
        {
            "metadata": {},
            "cell_type": "markdown",
            "source": "The dictionary key id has a unique identifier for each team as a value, let's look at the first three elements of the list:\n"
        },
        {
            "metadata": {},
            "cell_type": "code",
            "source": "nba_teams[0:3]",
            "execution_count": null,
            "outputs": []
        },
        {
            "metadata": {},
            "cell_type": "markdown",
            "source": "To make things easier, we can convert the dictionary to a table. First, we use the function <code>one dict</code>, to create a dictionary. We use the common keys for each team as the keys,  the value is a list; each element of the list corresponds to the values for each team.\nWe then convert the dictionary to a dataframe, each row contains the information for a different team.\n"
        },
        {
            "metadata": {},
            "cell_type": "code",
            "source": "dict_nba_team=one_dict(nba_teams)\ndf_teams=pd.DataFrame(dict_nba_team)\ndf_teams.head()",
            "execution_count": null,
            "outputs": []
        },
        {
            "metadata": {},
            "cell_type": "markdown",
            "source": "Will use the team's nickname to find the unique id, we can see the row that contains the warriors by using the column nickname as follows:\n"
        },
        {
            "metadata": {
                "jupyter": {
                    "outputs_hidden": false
                }
            },
            "cell_type": "code",
            "source": "df_warriors=df_teams[df_teams['nickname']=='Warriors']\ndf_warriors",
            "execution_count": null,
            "outputs": []
        },
        {
            "metadata": {},
            "cell_type": "markdown",
            "source": "we can use the following line of code to access the first column of the dataframe:\n"
        },
        {
            "metadata": {
                "jupyter": {
                    "outputs_hidden": false
                }
            },
            "cell_type": "code",
            "source": "id_warriors=df_warriors[['id']].values[0][0]\n#we now have an integer that can be used   to request the Warriors information \nid_warriors",
            "execution_count": null,
            "outputs": []
        },
        {
            "metadata": {},
            "cell_type": "markdown",
            "source": "The function \"League Game Finder \" will make an API call, its in the module <code>stats.endpoints</code> \n"
        },
        {
            "metadata": {},
            "cell_type": "code",
            "source": "from nba_api.stats.endpoints import leaguegamefinder",
            "execution_count": null,
            "outputs": []
        },
        {
            "metadata": {},
            "cell_type": "markdown",
            "source": "The parameter <code>team_id_nullable</code> is the unique ID for the warriors. Under the hood, the NBA API is making a HTTP request.  \nThe information requested is provided and is transmitted via an HTTP response this is assigned to the object <code>gamefinder</code>.\n"
        },
        {
            "metadata": {
                "jupyter": {
                    "outputs_hidden": false
                }
            },
            "cell_type": "code",
            "source": "# Since https://stats.nba.com does not allow api calls from Cloud IPs and Skills Network Labs uses a Cloud IP.\n# The following code is comment out, you can run it on jupyter labs on your own computer.\n# gamefinder = leaguegamefinder.LeagueGameFinder(team_id_nullable=id_warriors)",
            "execution_count": null,
            "outputs": []
        },
        {
            "metadata": {},
            "cell_type": "markdown",
            "source": "we can see the json file by running the following line of code. \n"
        },
        {
            "metadata": {},
            "cell_type": "code",
            "source": "# Since https://stats.nba.com does not allow api calls from Cloud IPs and Skills Network Labs uses a Cloud IP.\n# The following code is comment out, you can run it on jupyter labs on your own computer.\n# gamefinder.get_json()",
            "execution_count": null,
            "outputs": []
        },
        {
            "metadata": {},
            "cell_type": "markdown",
            "source": "The game finder object has a method <code>get_data_frames()</code>, that returns a dataframe.  If we view the dataframe, we can see it contains information about all the games the Warriors played.  The <code>PLUS_MINUS</code> column contains information on the score, if the value is negative the Warriors lost by that many points, if the value is positive, the warriors one by that amount of points. The column <code>MATCHUP </code>had the team the Warriors were playing, GSW stands for Golden State Warriors and TOR means Toronto Raptors; <code>vs</code> signifies it was a home game and the <code>@ </code>symbol means an away game.\n"
        },
        {
            "metadata": {},
            "cell_type": "code",
            "source": "# Since https://stats.nba.com does not allow api calls from Cloud IPs and Skills Network Labs uses a Cloud IP.\n# The following code is comment out, you can run it on jupyter labs on your own computer.\n# games = gamefinder.get_data_frames()[0]\n# games.head()",
            "execution_count": null,
            "outputs": []
        },
        {
            "metadata": {},
            "cell_type": "markdown",
            "source": "you can download the dataframe from the API call for Golden State and run the rest like a video.\n"
        },
        {
            "metadata": {},
            "cell_type": "code",
            "source": "! wget https://s3-api.us-geo.objectstorage.softlayer.net/cf-courses-data/CognitiveClass/PY0101EN/Chapter%205/Labs/Golden_State.pkl",
            "execution_count": null,
            "outputs": []
        },
        {
            "metadata": {},
            "cell_type": "code",
            "source": "file_name = \"Golden_State.pkl\"\ngames = pd.read_pickle(file_name)\ngames.head()",
            "execution_count": null,
            "outputs": []
        },
        {
            "metadata": {},
            "cell_type": "markdown",
            "source": "We can create two dataframes, one  for the games that the Warriors faced the raptors at home and the second for away games.\n"
        },
        {
            "metadata": {
                "jupyter": {
                    "outputs_hidden": false
                }
            },
            "cell_type": "code",
            "source": "games_home=games [games ['MATCHUP']=='GSW vs. TOR']\ngames_away=games [games ['MATCHUP']=='GSW @ TOR']",
            "execution_count": null,
            "outputs": []
        },
        {
            "metadata": {},
            "cell_type": "markdown",
            "source": "We can calculate the mean for the column  <code>PLUS_MINUS</code> for the dataframes  <code>games_home</code> and <code> games_away</code>:\n"
        },
        {
            "metadata": {
                "jupyter": {
                    "outputs_hidden": false
                }
            },
            "cell_type": "code",
            "source": "games_home.mean()['PLUS_MINUS']",
            "execution_count": null,
            "outputs": []
        },
        {
            "metadata": {
                "jupyter": {
                    "outputs_hidden": false
                }
            },
            "cell_type": "code",
            "source": "games_away.mean()['PLUS_MINUS']",
            "execution_count": null,
            "outputs": []
        },
        {
            "metadata": {},
            "cell_type": "markdown",
            "source": "We can plot out the <code>PLUS MINUS</code> column for  for the dataframes  <code>games_home</code> and <code> games_away</code>.\nWe see the warriors played better at home.\n"
        },
        {
            "metadata": {
                "jupyter": {
                    "outputs_hidden": false
                }
            },
            "cell_type": "code",
            "source": "fig, ax = plt.subplots()\n\ngames_away.plot(x='GAME_DATE',y='PLUS_MINUS', ax=ax)\ngames_home.plot(x='GAME_DATE',y='PLUS_MINUS', ax=ax)\nax.legend([\"away\", \"home\"])\nplt.show()",
            "execution_count": null,
            "outputs": []
        },
        {
            "metadata": {},
            "cell_type": "markdown",
            "source": "<h2>Quiz</h2>\n"
        },
        {
            "metadata": {},
            "cell_type": "markdown",
            "source": "Calculate the mean for the column  <code>PTS</code> for the dataframes  <code>games_home</code> and <code> games_away</code>:\n"
        },
        {
            "metadata": {},
            "cell_type": "code",
            "source": "# Write your code below and press Shift+Enter to execute\n\n\n!pip install nba_api\n! wget https://s3-api.us-geo.objectstorage.softlayer.net/cf-courses-data/CognitiveClass/PY0101EN/Chapter%205/Labs/Golden_State.pkl\n\nimport pandas as pd\nfrom nba_api.stats.static import teams\ntm= teams.get_teams()\n\ndf_team = pd.DataFrame(tm)\ndf_warriors = df_team[df_team['nickname'] == 'Warriors']\nwarriors_id = df_warriors[['id']].values[0][0]\n",
            "execution_count": 9,
            "outputs": [
                {
                    "output_type": "stream",
                    "text": "Requirement already satisfied: nba_api in /opt/conda/envs/Python-3.7-main/lib/python3.7/site-packages (1.1.9)\nRequirement already satisfied: requests in /opt/conda/envs/Python-3.7-main/lib/python3.7/site-packages (from nba_api) (2.24.0)\nRequirement already satisfied: certifi>=2017.4.17 in /opt/conda/envs/Python-3.7-main/lib/python3.7/site-packages (from requests->nba_api) (2020.12.5)\nRequirement already satisfied: chardet<4,>=3.0.2 in /opt/conda/envs/Python-3.7-main/lib/python3.7/site-packages (from requests->nba_api) (3.0.4)\nRequirement already satisfied: idna<3,>=2.5 in /opt/conda/envs/Python-3.7-main/lib/python3.7/site-packages (from requests->nba_api) (2.9)\nRequirement already satisfied: urllib3!=1.25.0,!=1.25.1,<1.26,>=1.21.1 in /opt/conda/envs/Python-3.7-main/lib/python3.7/site-packages (from requests->nba_api) (1.25.9)\n",
                    "name": "stdout"
                },
                {
                    "output_type": "execute_result",
                    "execution_count": 9,
                    "data": {
                        "text/plain": "1610612744"
                    },
                    "metadata": {}
                }
            ]
        },
        {
            "metadata": {},
            "cell_type": "markdown",
            "source": "<details><summary>Click here for the solution</summary>\n\n```python\ngames_home.mean()['PTS']\n\ngames_away.mean()['PLUS_MINUS']\n\n```\n\n</details>\n"
        },
        {
            "metadata": {},
            "cell_type": "markdown",
            "source": " <a href=\"https://cloud.ibm.com/catalog/services/watson-studio\"><img src = \"https://ibm.box.com/shared/static/irypdxea2q4th88zu1o1tsd06dya10go.png\" width = 750, align = \"center\"></a>\n"
        },
        {
            "metadata": {},
            "cell_type": "markdown",
            "source": "## Authors:\n\n [Joseph Santarcangelo](https://www.linkedin.com/in/joseph-s-50398b136?cm_mmc=Email_Newsletter-_-Developer_Ed%2BTech-_-WW_WW-_-SkillsNetwork-Courses-IBMDeveloperSkillsNetwork-PY0101EN-SkillsNetwork-19487395&cm_mmca1=000026UJ&cm_mmca2=10006555&cm_mmca3=M12345678&cvosrc=email.Newsletter.M12345678&cvo_campaign=000026UJ&cm_mmc=Email_Newsletter-_-Developer_Ed%2BTech-_-WW_WW-_-SkillsNetwork-Courses-IBMDeveloperSkillsNetwork-PY0101EN-SkillsNetwork-19487395&cm_mmca1=000026UJ&cm_mmca2=10006555&cm_mmca3=M12345678&cvosrc=email.Newsletter.M12345678&cvo_campaign=000026UJ) \n\nJoseph Santarcangelo has a PhD in Electrical Engineering, his research focused on using machine learning, signal processing, and computer vision to determine how videos impact human cognition. Joseph has been working for IBM since he completed his PhD.\n\n## Change Log\n\n| Date (YYYY-MM-DD) | Version | Changed By    | Change Description                 |\n| ----------------- | ------- | ------------- | ---------------------------------- |\n| 2020-09-09        | 2.1     | Malika Singla | Spell Check                        |\n| 2020-08-26        | 2.0     | Lavanya       | Moved lab to course repo in GitLab |\n|                   |         |               |                                    |\n|                   |         |               |                                    |\n\n<hr/>\n\n## <h3 align=\"center\"> \u00a9 IBM Corporation 2020. All rights reserved. <h3/>\n"
        }
    ],
    "metadata": {
        "kernelspec": {
            "name": "python3",
            "display_name": "Python 3.7",
            "language": "python"
        },
        "language_info": {
            "name": "python",
            "version": "3.7.9",
            "mimetype": "text/x-python",
            "codemirror_mode": {
                "name": "ipython",
                "version": 3
            },
            "pygments_lexer": "ipython3",
            "nbconvert_exporter": "python",
            "file_extension": ".py"
        }
    },
    "nbformat": 4,
    "nbformat_minor": 4
}