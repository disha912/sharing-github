{
    "cells": [
        {
            "metadata": {
                "collapsed": true
            },
            "cell_type": "code",
            "source": "# Matplotlib\n\n\n# Print the last item from year and pop\nprint(year[-1])\nprint(pop[-1])\n\n\n# Import matplotlib.pyplot as plt\nimport matplotlib.pyplot as plt\n\n# Make a line plot: year on the x-axis, pop on the y-axis\nplt.plot(year,pop)\n\n# Display the plot with plt.show()\nplt.show()\n\n-----------------------------\n\n# Print the last item of gdp_cap and life_exp\nprint(gdp_cap[-1])\nprint(life_exp[-1])\n\n\n# Make a line plot, gdp_cap on the x-axis, life_exp on the y-axis\nimport matplotlib.pyplot as plt\nplt.plot(gdp_cap,life_exp)\n\n# Display the plot\nplt.show()\n\n\n---------------------------------\n\n\n# Change the line plot below to a scatter plot\nplt.scatter(gdp_cap, life_exp)\n\n# Put the x-axis on a logarithmic scale\nplt.xscale('log')\n\n# Show plot\nplt.show()\n\n\n--------------------------------\n\n\n# Import package\nimport matplotlib.pyplot as plt\n\n\n# Build Scatter plot\nplt.scatter(pop,life_exp)\n\n# Show plot\nplt.show()",
            "execution_count": null,
            "outputs": []
        },
        {
            "metadata": {},
            "cell_type": "code",
            "source": "# Create histogram of life_exp data\nimport matplotlib.pyplot as plt\nplt.hist(life_exp)\n\n# Display histogram\nplt.show()\n\n\n-------------------------------------\n\n\n# Build histogram with 5 bins\nimport matplotlib.pyplot as plt\nplt.hist(life_exp, 5)\n\n# Show and clean up plot\nplt.show()\nplt.clf()\n\n# Build histogram with 20 bins\nplt.hist(life_exp , 20)\n\n# Show and clean up again\nplt.show()\nplt.clf()\n\n\n------------------------------------\n\n\n# Histogram of life_exp, 15 bins\nimport matplotlib.pyplot as plt\nplt.hist(life_exp , 15)\n\n# Show and clear plot\nplt.show()\nplt.clf()\n\n# Histogram of life_exp1950, 15 bins\nplt.hist(life_exp1950 , 15)\n\n# Show and clear plot again\nplt.show()\nplt.clf()",
            "execution_count": null,
            "outputs": []
        },
        {
            "metadata": {},
            "cell_type": "code",
            "source": "",
            "execution_count": null,
            "outputs": []
        },
        {
            "metadata": {},
            "cell_type": "code",
            "source": "",
            "execution_count": null,
            "outputs": []
        },
        {
            "metadata": {},
            "cell_type": "code",
            "source": "",
            "execution_count": null,
            "outputs": []
        },
        {
            "metadata": {},
            "cell_type": "code",
            "source": "",
            "execution_count": null,
            "outputs": []
        },
        {
            "metadata": {},
            "cell_type": "code",
            "source": "",
            "execution_count": null,
            "outputs": []
        },
        {
            "metadata": {},
            "cell_type": "code",
            "source": "",
            "execution_count": null,
            "outputs": []
        },
        {
            "metadata": {},
            "cell_type": "code",
            "source": "",
            "execution_count": null,
            "outputs": []
        },
        {
            "metadata": {},
            "cell_type": "code",
            "source": "",
            "execution_count": null,
            "outputs": []
        },
        {
            "metadata": {},
            "cell_type": "code",
            "source": "",
            "execution_count": null,
            "outputs": []
        }
    ],
    "metadata": {
        "kernelspec": {
            "name": "python3",
            "display_name": "Python 3.6",
            "language": "python"
        },
        "language_info": {
            "name": "python",
            "version": "3.6.9",
            "mimetype": "text/x-python",
            "codemirror_mode": {
                "name": "ipython",
                "version": 3
            },
            "pygments_lexer": "ipython3",
            "nbconvert_exporter": "python",
            "file_extension": ".py"
        }
    },
    "nbformat": 4,
    "nbformat_minor": 1
}