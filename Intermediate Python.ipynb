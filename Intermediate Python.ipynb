{
    "cells": [
        {
            "metadata": {
                "collapsed": true
            },
            "cell_type": "code",
            "source": "# Matplotlib\n\n\n# Print the last item from year and pop\nprint(year[-1])\nprint(pop[-1])\n\n\n# Import matplotlib.pyplot as plt\nimport matplotlib.pyplot as plt\n\n# Make a line plot: year on the x-axis, pop on the y-axis\nplt.plot(year,pop)\n\n# Display the plot with plt.show()\nplt.show()\n\n-----------------------------\n\n# Print the last item of gdp_cap and life_exp\nprint(gdp_cap[-1])\nprint(life_exp[-1])\n\n\n# Make a line plot, gdp_cap on the x-axis, life_exp on the y-axis\nimport matplotlib.pyplot as plt\nplt.plot(gdp_cap,life_exp)\n\n# Display the plot\nplt.show()\n\n\n---------------------------------\n\n\n# Change the line plot below to a scatter plot\nplt.scatter(gdp_cap, life_exp)\n\n# Put the x-axis on a logarithmic scale\nplt.xscale('log')\n\n# Show plot\nplt.show()\n\n\n--------------------------------\n\n\n# Import package\nimport matplotlib.pyplot as plt\n\n\n# Build Scatter plot\nplt.scatter(pop,life_exp)\n\n# Show plot\nplt.show()",
            "execution_count": null,
            "outputs": []
        },
        {
            "metadata": {},
            "cell_type": "code",
            "source": "# Create histogram of life_exp data\nimport matplotlib.pyplot as plt\nplt.hist(life_exp)\n\n# Display histogram\nplt.show()\n\n\n-------------------------------------\n\n\n# Build histogram with 5 bins\nimport matplotlib.pyplot as plt\nplt.hist(life_exp, 5)\n\n# Show and clean up plot\nplt.show()\nplt.clf()\n\n# Build histogram with 20 bins\nplt.hist(life_exp , 20)\n\n# Show and clean up again\nplt.show()\nplt.clf()\n\n\n------------------------------------\n\n\n# Histogram of life_exp, 15 bins\nimport matplotlib.pyplot as plt\nplt.hist(life_exp , 15)\n\n# Show and clear plot\nplt.show()\nplt.clf()\n\n# Histogram of life_exp1950, 15 bins\nplt.hist(life_exp1950 , 15)\n\n# Show and clear plot again\nplt.show()\nplt.clf()",
            "execution_count": null,
            "outputs": []
        },
        {
            "metadata": {},
            "cell_type": "code",
            "source": "# Basic scatter plot, log scale\nimport matplotlib.pyplot as plt\nplt.scatter(gdp_cap, life_exp)\nplt.xscale('log')\n\n# Strings\nxlab = 'GDP per Capita [in USD]'\nylab = 'Life Expectancy [in years]'\ntitle = 'World Development in 2007'\n\n# Add axis labels\nplt.xlabel(xlab)\nplt.ylabel(ylab)\n\n\n# Add title\nplt.title(title)\n\n# After customizing, display the plot\nplt.show()\n\n\n----------------------------------\n\n\n# Scatter plot\nplt.scatter(gdp_cap, life_exp)\n\n# Previous customizations\nplt.xscale('log') \nplt.xlabel('GDP per Capita [in USD]')\nplt.ylabel('Life Expectancy [in years]')\nplt.title('World Development in 2007')\n\n# Definition of tick_val and tick_lab\ntick_val = [1000, 10000, 100000]\ntick_lab = ['1k', '10k', '100k']\n\n# Adapt the ticks on the x-axis\nplt.xticks(tick_val , tick_lab)\n\n# After customizing, display the plot\nplt.plot(gdp_cap ,life_exp )\nplt.show()",
            "execution_count": null,
            "outputs": []
        },
        {
            "metadata": {},
            "cell_type": "code",
            "source": "# Import numpy as np\nimport numpy as np\nimport matplotlib.pyplot as plt\n\n# Store pop as a numpy array: np_pop\nnp_pop = np.array(pop)\n\n# Double np_pop\nnp_pop = np_pop * 2\n\n# Update: set s argument to np_pop\nplt.scatter(gdp_cap, life_exp, s = pop)\n\n# Previous customizations\nplt.xscale('log') \nplt.xlabel('GDP per Capita [in USD]')\nplt.ylabel('Life Expectancy [in years]')\nplt.title('World Development in 2007')\nplt.xticks([1000, 10000, 100000],['1k', '10k', '100k'])\n\n# Display the plot\nplt.show()\n\n\n-----------------------------------\n\n\n# Specify c and alpha inside plt.scatter()\nplt.scatter(x = gdp_cap, y = life_exp, s = np.array(pop) * 2, c = col, alpha =0.8 )\n\n# Previous customizations\nplt.xscale('log')\nplt.xlabel('GDP per Capita [in USD]')\nplt.ylabel('Life Expectancy [in years]')\nplt.title('World Development in 2007')\nplt.xticks([1000,10000,100000],['1k', '10k', '100k'])\n\n\n# Add grid() call\nplt.grid(True)\n\n# Show the plot\nplt.show()",
            "execution_count": null,
            "outputs": []
        },
        {
            "metadata": {},
            "cell_type": "code",
            "source": "#Dictionaries\n\n\n# Definition of dictionary\neurope = {'spain':'madrid', 'france':'paris', 'germany':'berlin', 'norway':'oslo' }\n\n# Add italy to europe\neurope['italy'] = 'rome'\n\n# Print out italy in europe\nprint('italy' in europe)\n\n# Add poland to europe\neurope['poland'] = 'warsaw'\n\n# Print europe\nprint(europe)\n\n--------------------------------------------------------------\n\n\n# Definition of dictionary\neurope = {'spain':'madrid', 'france':'paris', 'germany':'bonn',\n          'norway':'oslo', 'italy':'rome', 'poland':'warsaw',\n          'australia':'vienna' }\n\n# Update capital of germany\neurope['germany'] = 'berlin'\n\n# Remove australia\ndel(europe['australia'])\n\n# Print europe\nprint(europe)\n\n\n--------------------------------------------------\n\n\n# Dictionary of dictionaries\neurope = { 'spain': { 'capital':'madrid', 'population':46.77 },\n           'france': { 'capital':'paris', 'population':66.03 },\n           'germany': { 'capital':'berlin', 'population':80.62 },\n           'norway': { 'capital':'oslo', 'population':5.084 } }\n\n\n# Print out the capital of France\nprint(europe['france']['capital'])\n\n# Create sub-dictionary data\ndata = {'capital' : 'rome' , 'population' : 59.83}\n\n# Add data to europe under key 'italy'\neurope['italy'] = data\n\n# Print europe\nprint(europe)",
            "execution_count": 1,
            "outputs": [
                {
                    "output_type": "stream",
                    "text": "True\n{'spain': 'madrid', 'france': 'paris', 'germany': 'berlin', 'norway': 'oslo', 'italy': 'rome', 'poland': 'warsaw'}\n",
                    "name": "stdout"
                }
            ]
        },
        {
            "metadata": {},
            "cell_type": "code",
            "source": "#Pandas\n\n\n\n# Pre-defined lists\nnames = ['United States', 'Australia', 'Japan', 'India', 'Russia', 'Morocco', 'Egypt']\ndr =  [True, False, False, False, True, True, True]\ncpc = [809, 731, 588, 18, 200, 70, 45]\n\n# Import pandas as pd\nimport pandas as pd\n\n# Create dictionary my_dict with three key:value pairs: my_dict\nmy_dict = {'country': ['United States', 'Australia', 'Japan', 'India', 'Russia', 'Morocco', 'Egypt'],\n            'drives_right':[True, False, False, False, True, True, True],\n            'cars_per_cap': [809, 731, 588, 18, 200, 70, 45]}\n\n\n# Build a DataFrame cars from my_dict: cars\ncars = pd.DataFrame(my_dict)\n\n# Print cars\nprint(cars)",
            "execution_count": 2,
            "outputs": [
                {
                    "output_type": "stream",
                    "text": "         country  drives_right  cars_per_cap\n0  United States          True           809\n1      Australia         False           731\n2          Japan         False           588\n3          India         False            18\n4         Russia          True           200\n5        Morocco          True            70\n6          Egypt          True            45\n",
                    "name": "stdout"
                }
            ]
        },
        {
            "metadata": {},
            "cell_type": "code",
            "source": "",
            "execution_count": null,
            "outputs": []
        },
        {
            "metadata": {},
            "cell_type": "code",
            "source": "",
            "execution_count": null,
            "outputs": []
        },
        {
            "metadata": {},
            "cell_type": "code",
            "source": "",
            "execution_count": null,
            "outputs": []
        },
        {
            "metadata": {},
            "cell_type": "code",
            "source": "",
            "execution_count": null,
            "outputs": []
        },
        {
            "metadata": {},
            "cell_type": "code",
            "source": "",
            "execution_count": null,
            "outputs": []
        }
    ],
    "metadata": {
        "kernelspec": {
            "name": "python3",
            "display_name": "Python 3.6",
            "language": "python"
        },
        "language_info": {
            "name": "python",
            "version": "3.6.9",
            "mimetype": "text/x-python",
            "codemirror_mode": {
                "name": "ipython",
                "version": 3
            },
            "pygments_lexer": "ipython3",
            "nbconvert_exporter": "python",
            "file_extension": ".py"
        }
    },
    "nbformat": 4,
    "nbformat_minor": 1
}